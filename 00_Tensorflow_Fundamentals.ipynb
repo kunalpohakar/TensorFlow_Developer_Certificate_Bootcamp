{
  "cells": [
    {
      "cell_type": "markdown",
      "metadata": {
        "id": "view-in-github",
        "colab_type": "text"
      },
      "source": [
        "<a href=\"https://colab.research.google.com/github/kunalpohakar/TensorFlow_Developer_Certificate_Bootcamp/blob/main/00_Tensorflow_Fundamentals.ipynb\" target=\"_parent\"><img src=\"https://colab.research.google.com/assets/colab-badge.svg\" alt=\"Open In Colab\"/></a>"
      ]
    },
    {
      "cell_type": "code",
      "execution_count": 2,
      "metadata": {
        "id": "l4gXuYS5Isg6"
      },
      "outputs": [],
      "source": []
    },
    {
      "cell_type": "markdown",
      "metadata": {
        "id": "VXYi9qNNJo0b"
      },
      "source": [
        "## In this notebook, we're going to cover some of the most fundamentals concepts of tensors using Tensorflow\n",
        "\n",
        "More specifically, we're going to cover:\n",
        "* Introduction of Tensors\n",
        "* Getting information from tensors\n",
        "* manipulating Tensors\n",
        "* Tenors & Numpy\n",
        "* Using @tf.function ( a way to speed up your regular python function )\n",
        "* Using GPUs with Tensorflow (or TPUs)\n",
        "* Exercises to try for yourself!"
      ]
    },
    {
      "cell_type": "code",
      "execution_count": 3,
      "metadata": {
        "id": "6rA7hBeWJ2R6"
      },
      "outputs": [],
      "source": [
        "## Introduction to Tensors"
      ]
    },
    {
      "cell_type": "code",
      "execution_count": 4,
      "metadata": {
        "colab": {
          "base_uri": "https://localhost:8080/"
        },
        "id": "erP2UU46L4zG",
        "outputId": "956eacaa-f0af-4450-b94f-e15a0f0bcb7f"
      },
      "outputs": [
        {
          "output_type": "stream",
          "name": "stdout",
          "text": [
            "2.15.0\n"
          ]
        }
      ],
      "source": [
        "# Import Tensorflow\n",
        "import tensorflow as tf\n",
        "print(tf.__version__)"
      ]
    },
    {
      "cell_type": "code",
      "execution_count": 5,
      "metadata": {
        "colab": {
          "base_uri": "https://localhost:8080/"
        },
        "id": "9NqNSvV0MRv8",
        "outputId": "d1a109b9-c736-4538-80a9-bb2d2cc2b8cc"
      },
      "outputs": [
        {
          "output_type": "execute_result",
          "data": {
            "text/plain": [
              "<tf.Tensor: shape=(), dtype=float64, numpy=7.0>"
            ]
          },
          "metadata": {},
          "execution_count": 5
        }
      ],
      "source": [
        "# Create tensors with tf.constant\n",
        "# Scalar is a tensor with only one element, which means it has no dimensions\n",
        "scalar = tf.constant(7, 2)\n",
        "scalar"
      ]
    },
    {
      "cell_type": "code",
      "execution_count": 6,
      "metadata": {
        "colab": {
          "base_uri": "https://localhost:8080/"
        },
        "id": "2b0BaJWsN19w",
        "outputId": "6ec9466e-59f1-43c5-fcf1-5524a7abf530"
      },
      "outputs": [
        {
          "output_type": "execute_result",
          "data": {
            "text/plain": [
              "0"
            ]
          },
          "metadata": {},
          "execution_count": 6
        }
      ],
      "source": [
        "# Check the number of dimensions of a tensor (ndim stands for number of dimensions)\n",
        "scalar.ndim"
      ]
    },
    {
      "cell_type": "code",
      "execution_count": 7,
      "metadata": {
        "colab": {
          "base_uri": "https://localhost:8080/"
        },
        "id": "iQBnwtkBQORZ",
        "outputId": "4e01c2f5-9c79-4d41-d064-6b1bd37c5f2c"
      },
      "outputs": [
        {
          "output_type": "execute_result",
          "data": {
            "text/plain": [
              "<tf.Tensor: shape=(2,), dtype=int32, numpy=array([10, 10], dtype=int32)>"
            ]
          },
          "metadata": {},
          "execution_count": 7
        }
      ],
      "source": [
        "# Create a vector\n",
        "vector = tf.constant([10, 10])\n",
        "vector"
      ]
    },
    {
      "cell_type": "code",
      "execution_count": 8,
      "metadata": {
        "colab": {
          "base_uri": "https://localhost:8080/"
        },
        "id": "z8hHkvqBRtB6",
        "outputId": "b861d99c-6e75-47e8-86d9-258d39128f47"
      },
      "outputs": [
        {
          "output_type": "execute_result",
          "data": {
            "text/plain": [
              "1"
            ]
          },
          "metadata": {},
          "execution_count": 8
        }
      ],
      "source": [
        "# Check the dimensions of our vector\n",
        "vector.ndim"
      ]
    },
    {
      "cell_type": "code",
      "execution_count": 9,
      "metadata": {
        "colab": {
          "base_uri": "https://localhost:8080/"
        },
        "id": "kQ2z_YU-SHMy",
        "outputId": "b8ebdb6e-4c97-4203-91a6-2cb5c97d369b"
      },
      "outputs": [
        {
          "output_type": "execute_result",
          "data": {
            "text/plain": [
              "<tf.Tensor: shape=(2, 2), dtype=int32, numpy=\n",
              "array([[10,  7],\n",
              "       [ 7, 10]], dtype=int32)>"
            ]
          },
          "metadata": {},
          "execution_count": 9
        }
      ],
      "source": [
        "# create a matrix ( has more than 1 dimensions )\n",
        "matrix = tf.constant([[10, 7],\n",
        "                      [7, 10]])\n",
        "matrix"
      ]
    },
    {
      "cell_type": "code",
      "execution_count": 10,
      "metadata": {
        "colab": {
          "base_uri": "https://localhost:8080/"
        },
        "id": "H20EYxuQShEP",
        "outputId": "bb017551-c1ca-4534-baae-6e195b15d523"
      },
      "outputs": [
        {
          "output_type": "execute_result",
          "data": {
            "text/plain": [
              "2"
            ]
          },
          "metadata": {},
          "execution_count": 10
        }
      ],
      "source": [
        "matrix.ndim"
      ]
    },
    {
      "cell_type": "code",
      "execution_count": 11,
      "metadata": {
        "colab": {
          "base_uri": "https://localhost:8080/"
        },
        "id": "lojbo4VrS6n9",
        "outputId": "cab56d14-a019-4e33-9b80-591db6b4b85c"
      },
      "outputs": [
        {
          "output_type": "execute_result",
          "data": {
            "text/plain": [
              "<tf.Tensor: shape=(3, 2), dtype=float16, numpy=\n",
              "array([[10.,  7.],\n",
              "       [ 7., 10.],\n",
              "       [ 8.,  9.]], dtype=float16)>"
            ]
          },
          "metadata": {},
          "execution_count": 11
        }
      ],
      "source": [
        "# Create another matrix\n",
        "another_matrix = tf.constant([[10., 7.],\n",
        "                              [7., 10.],\n",
        "                              [8., 9.]], dtype = tf.float16) # Specify the data type with dtype parameter\n",
        "another_matrix\n"
      ]
    },
    {
      "cell_type": "code",
      "execution_count": 12,
      "metadata": {
        "colab": {
          "base_uri": "https://localhost:8080/"
        },
        "id": "XViF0tPnUCJO",
        "outputId": "23841fc0-f23c-4a11-d5b7-344466aa1db2"
      },
      "outputs": [
        {
          "output_type": "execute_result",
          "data": {
            "text/plain": [
              "2"
            ]
          },
          "metadata": {},
          "execution_count": 12
        }
      ],
      "source": [
        "another_matrix.ndim"
      ]
    },
    {
      "cell_type": "code",
      "execution_count": 13,
      "metadata": {
        "colab": {
          "base_uri": "https://localhost:8080/"
        },
        "id": "eMPxXyC7UHNA",
        "outputId": "8cea42c2-8b82-40b7-ef28-8b5cf38cb916"
      },
      "outputs": [
        {
          "output_type": "execute_result",
          "data": {
            "text/plain": [
              "<tf.Tensor: shape=(3, 2, 3), dtype=int32, numpy=\n",
              "array([[[ 1,  2,  3],\n",
              "        [ 4,  5,  6]],\n",
              "\n",
              "       [[ 7,  8,  9],\n",
              "        [10, 11, 12]],\n",
              "\n",
              "       [[13, 14, 15],\n",
              "        [16, 17, 18]]], dtype=int32)>"
            ]
          },
          "metadata": {},
          "execution_count": 13
        }
      ],
      "source": [
        "# Let's create a tensor\n",
        "tensor = tf.constant([[[1, 2, 3],[4, 5, 6]],\n",
        "                      [[7, 8, 9],[10, 11, 12]],\n",
        "                      [[13, 14, 15],[16, 17, 18]]])\n",
        "\n",
        "tensor"
      ]
    },
    {
      "cell_type": "code",
      "execution_count": 14,
      "metadata": {
        "colab": {
          "base_uri": "https://localhost:8080/"
        },
        "id": "Jf7BzSK6Vb_6",
        "outputId": "d90b75a7-8acc-4516-9344-7ca6c65e71e8"
      },
      "outputs": [
        {
          "output_type": "execute_result",
          "data": {
            "text/plain": [
              "3"
            ]
          },
          "metadata": {},
          "execution_count": 14
        }
      ],
      "source": [
        "tensor.ndim"
      ]
    },
    {
      "cell_type": "markdown",
      "metadata": {
        "id": "tOxbbRD7XBqk"
      },
      "source": [
        "What we've created so far\n",
        "\n",
        "* Scalar : a single dimensions\n",
        "* Vector : a number with direction (e.g a wind with speed)\n",
        "* matrix : a 2- dimensional array of numbers\n",
        "* Tensor : an n - dimensional array of numbers ( when n can be any number, a 0-dimensional tensor is a scalar, 1-dimensional tensor is a vector )\n"
      ]
    },
    {
      "cell_type": "markdown",
      "metadata": {
        "id": "SAWuTRm2X_sn"
      },
      "source": [
        "## Creating Tensors with `tf.variable`"
      ]
    },
    {
      "cell_type": "code",
      "execution_count": 15,
      "metadata": {
        "colab": {
          "base_uri": "https://localhost:8080/",
          "height": 186
        },
        "id": "Vbu8XmwVVoBR",
        "outputId": "f841ae95-6c88-4a17-f52a-dffb594febef"
      },
      "outputs": [
        {
          "output_type": "execute_result",
          "data": {
            "text/plain": [
              "tensorflow.python.ops.variables.Variable"
            ],
            "text/html": [
              "<div style=\"max-width:800px; border: 1px solid var(--colab-border-color);\"><style>\n",
              "      pre.function-repr-contents {\n",
              "        overflow-x: auto;\n",
              "        padding: 8px 12px;\n",
              "        max-height: 500px;\n",
              "      }\n",
              "\n",
              "      pre.function-repr-contents.function-repr-contents-collapsed {\n",
              "        cursor: pointer;\n",
              "        max-height: 100px;\n",
              "      }\n",
              "    </style>\n",
              "    <pre style=\"white-space: initial; background:\n",
              "         var(--colab-secondary-surface-color); padding: 8px 12px;\n",
              "         border-bottom: 1px solid var(--colab-border-color);\"><b>tensorflow.python.ops.variables.Variable</b><br/>def error_handler(*args, **kwargs)</pre><pre class=\"function-repr-contents function-repr-contents-collapsed\" style=\"\"><a class=\"filepath\" style=\"display:none\" href=\"#\">/usr/local/lib/python3.10/dist-packages/tensorflow/python/ops/variables.py</a>See the [variable guide](https://tensorflow.org/guide/variable).\n",
              "\n",
              "A variable maintains shared, persistent state manipulated by a program.\n",
              "\n",
              "The `Variable()` constructor requires an initial value for the variable, which\n",
              "can be a `Tensor` of any type and shape. This initial value defines the type\n",
              "and shape of the variable. After construction, the type and shape of the\n",
              "variable are fixed. The value can be changed using one of the assign methods.\n",
              "\n",
              "&gt;&gt;&gt; v = tf.Variable(1.)\n",
              "&gt;&gt;&gt; v.assign(2.)\n",
              "&lt;tf.Variable ... shape=() dtype=float32, numpy=2.0&gt;\n",
              "&gt;&gt;&gt; v.assign_add(0.5)\n",
              "&lt;tf.Variable ... shape=() dtype=float32, numpy=2.5&gt;\n",
              "\n",
              "The `shape` argument to `Variable`&#x27;s constructor allows you to construct a\n",
              "variable with a less defined shape than its `initial_value`:\n",
              "\n",
              "&gt;&gt;&gt; v = tf.Variable(1., shape=tf.TensorShape(None))\n",
              "&gt;&gt;&gt; v.assign([[1.]])\n",
              "&lt;tf.Variable ... shape=&lt;unknown&gt; dtype=float32, numpy=array([[1.]], ...)&gt;\n",
              "\n",
              "Just like any `Tensor`, variables created with `Variable()` can be used as\n",
              "inputs to operations. Additionally, all the operators overloaded for the\n",
              "`Tensor` class are carried over to variables.\n",
              "\n",
              "&gt;&gt;&gt; w = tf.Variable([[1.], [2.]])\n",
              "&gt;&gt;&gt; x = tf.constant([[3., 4.]])\n",
              "&gt;&gt;&gt; tf.matmul(w, x)\n",
              "&lt;tf.Tensor:... shape=(2, 2), ... numpy=\n",
              "  array([[3., 4.],\n",
              "         [6., 8.]], dtype=float32)&gt;\n",
              "&gt;&gt;&gt; tf.sigmoid(w + x)\n",
              "&lt;tf.Tensor:... shape=(2, 2), ...&gt;\n",
              "\n",
              "When building a machine learning model it is often convenient to distinguish\n",
              "between variables holding trainable model parameters and other variables such\n",
              "as a `step` variable used to count training steps. To make this easier, the\n",
              "variable constructor supports a `trainable=&lt;bool&gt;`\n",
              "parameter. `tf.GradientTape` watches trainable variables by default:\n",
              "\n",
              "&gt;&gt;&gt; with tf.GradientTape(persistent=True) as tape:\n",
              "...   trainable = tf.Variable(1.)\n",
              "...   non_trainable = tf.Variable(2., trainable=False)\n",
              "...   x1 = trainable * 2.\n",
              "...   x2 = non_trainable * 3.\n",
              "&gt;&gt;&gt; tape.gradient(x1, trainable)\n",
              "&lt;tf.Tensor:... shape=(), dtype=float32, numpy=2.0&gt;\n",
              "&gt;&gt;&gt; assert tape.gradient(x2, non_trainable) is None  # Unwatched\n",
              "\n",
              "Variables are automatically tracked when assigned to attributes of types\n",
              "inheriting from `tf.Module`.\n",
              "\n",
              "&gt;&gt;&gt; m = tf.Module()\n",
              "&gt;&gt;&gt; m.v = tf.Variable([1.])\n",
              "&gt;&gt;&gt; m.trainable_variables\n",
              "(&lt;tf.Variable ... shape=(1,) ... numpy=array([1.], dtype=float32)&gt;,)\n",
              "\n",
              "This tracking then allows saving variable values to\n",
              "[training checkpoints](https://www.tensorflow.org/guide/checkpoint), or to\n",
              "[SavedModels](https://www.tensorflow.org/guide/saved_model) which include\n",
              "serialized TensorFlow graphs.\n",
              "\n",
              "Variables are often captured and manipulated by `tf.function`s. This works the\n",
              "same way the un-decorated function would have:\n",
              "\n",
              "&gt;&gt;&gt; v = tf.Variable(0.)\n",
              "&gt;&gt;&gt; read_and_decrement = tf.function(lambda: v.assign_sub(0.1))\n",
              "&gt;&gt;&gt; read_and_decrement()\n",
              "&lt;tf.Tensor: shape=(), dtype=float32, numpy=-0.1&gt;\n",
              "&gt;&gt;&gt; read_and_decrement()\n",
              "&lt;tf.Tensor: shape=(), dtype=float32, numpy=-0.2&gt;\n",
              "\n",
              "Variables created inside a `tf.function` must be owned outside the function\n",
              "and be created only once:\n",
              "\n",
              "&gt;&gt;&gt; class M(tf.Module):\n",
              "...   @tf.function\n",
              "...   def __call__(self, x):\n",
              "...     if not hasattr(self, &quot;v&quot;):  # Or set self.v to None in __init__\n",
              "...       self.v = tf.Variable(x)\n",
              "...     return self.v * x\n",
              "&gt;&gt;&gt; m = M()\n",
              "&gt;&gt;&gt; m(2.)\n",
              "&lt;tf.Tensor: shape=(), dtype=float32, numpy=4.0&gt;\n",
              "&gt;&gt;&gt; m(3.)\n",
              "&lt;tf.Tensor: shape=(), dtype=float32, numpy=6.0&gt;\n",
              "&gt;&gt;&gt; m.v\n",
              "&lt;tf.Variable ... shape=() dtype=float32, numpy=2.0&gt;\n",
              "\n",
              "See the `tf.function` documentation for details.</pre>\n",
              "      <script>\n",
              "      if (google.colab.kernel.accessAllowed && google.colab.files && google.colab.files.view) {\n",
              "        for (const element of document.querySelectorAll('.filepath')) {\n",
              "          element.style.display = 'block'\n",
              "          element.onclick = (event) => {\n",
              "            event.preventDefault();\n",
              "            event.stopPropagation();\n",
              "            google.colab.files.view(element.textContent, 201);\n",
              "          };\n",
              "        }\n",
              "      }\n",
              "      for (const element of document.querySelectorAll('.function-repr-contents')) {\n",
              "        element.onclick = (event) => {\n",
              "          event.preventDefault();\n",
              "          event.stopPropagation();\n",
              "          element.classList.toggle('function-repr-contents-collapsed');\n",
              "        };\n",
              "      }\n",
              "      </script>\n",
              "      </div>"
            ]
          },
          "metadata": {},
          "execution_count": 15
        }
      ],
      "source": [
        "tf.Variable"
      ]
    },
    {
      "cell_type": "code",
      "execution_count": 16,
      "metadata": {
        "colab": {
          "base_uri": "https://localhost:8080/"
        },
        "id": "OWddomoFYJro",
        "outputId": "b53afd86-a41c-424e-a359-84618597a318"
      },
      "outputs": [
        {
          "output_type": "execute_result",
          "data": {
            "text/plain": [
              "(<tf.Variable 'Variable:0' shape=(2,) dtype=int32, numpy=array([10,  7], dtype=int32)>,\n",
              " <tf.Tensor: shape=(2,), dtype=int32, numpy=array([10,  7], dtype=int32)>)"
            ]
          },
          "metadata": {},
          "execution_count": 16
        }
      ],
      "source": [
        "# Create the same tensor with `tf.Variable()` as above\n",
        "\n",
        "changable_tensor = tf.Variable([10, 7])\n",
        "unchangable_tensor = tf.constant([10, 7])\n",
        "changable_tensor, unchangable_tensor"
      ]
    },
    {
      "cell_type": "code",
      "execution_count": 17,
      "metadata": {
        "colab": {
          "base_uri": "https://localhost:8080/"
        },
        "id": "9kx65WgnZBeN",
        "outputId": "990911be-40e8-4880-9a83-c844b0ff97c1"
      },
      "outputs": [
        {
          "output_type": "execute_result",
          "data": {
            "text/plain": [
              "<tf.Variable 'UnreadVariable' shape=(2,) dtype=int32, numpy=array([7, 7], dtype=int32)>"
            ]
          },
          "metadata": {},
          "execution_count": 17
        }
      ],
      "source": [
        "# Let's try chnage noe of the element of our changable tensor\n",
        "changable_tensor[0].assign(7)"
      ]
    },
    {
      "cell_type": "markdown",
      "metadata": {
        "id": "ppePUumm5903"
      },
      "source": [
        "### Creating Random Tensors\n",
        "\n",
        "Random tensors are tensors of some abirtary size which content random numbers.\n"
      ]
    },
    {
      "cell_type": "code",
      "execution_count": 18,
      "metadata": {
        "id": "sbVFFgNT5EQu"
      },
      "outputs": [],
      "source": [
        "# Create two random (but the same) tensors\n",
        "random_1 = tf.random.Generator.from_seed(42) # set seed for reproducibility\n",
        "random_1 = random_1.normal(shape=(3, 2))\n",
        "random_2 = tf.random.Generator.from_seed(42)\n",
        "random_2 = random_2.normal(shape=(3, 2))"
      ]
    },
    {
      "cell_type": "code",
      "execution_count": 19,
      "metadata": {
        "colab": {
          "base_uri": "https://localhost:8080/"
        },
        "id": "Nl_vJFf37_Iw",
        "outputId": "2d42efb0-40d1-4492-9779-f4c71b66acbe"
      },
      "outputs": [
        {
          "output_type": "execute_result",
          "data": {
            "text/plain": [
              "(<tf.Tensor: shape=(3, 2), dtype=float32, numpy=\n",
              " array([[-0.7565803 , -0.06854702],\n",
              "        [ 0.07595026, -1.2573844 ],\n",
              "        [-0.23193765, -1.8107855 ]], dtype=float32)>,\n",
              " <tf.Tensor: shape=(3, 2), dtype=float32, numpy=\n",
              " array([[-0.7565803 , -0.06854702],\n",
              "        [ 0.07595026, -1.2573844 ],\n",
              "        [-0.23193765, -1.8107855 ]], dtype=float32)>,\n",
              " <tf.Tensor: shape=(3, 2), dtype=bool, numpy=\n",
              " array([[ True,  True],\n",
              "        [ True,  True],\n",
              "        [ True,  True]])>)"
            ]
          },
          "metadata": {},
          "execution_count": 19
        }
      ],
      "source": [
        "random_1, random_2, random_1 == random_2"
      ]
    },
    {
      "cell_type": "markdown",
      "source": [
        "## Shuffle the order of elements in tensor"
      ],
      "metadata": {
        "id": "OT0bZ8xRL_HX"
      }
    },
    {
      "cell_type": "code",
      "execution_count": 20,
      "metadata": {
        "colab": {
          "base_uri": "https://localhost:8080/"
        },
        "id": "BbVCPc7j8qaP",
        "outputId": "90a3e165-463b-4e32-9e8e-dc6c9e2b6688"
      },
      "outputs": [
        {
          "output_type": "execute_result",
          "data": {
            "text/plain": [
              "<tf.Tensor: shape=(3, 2), dtype=int32, numpy=\n",
              "array([[10,  7],\n",
              "       [ 3,  4],\n",
              "       [ 2,  5]], dtype=int32)>"
            ]
          },
          "metadata": {},
          "execution_count": 20
        }
      ],
      "source": [
        "# Shuffle the tensor (valuable for when you want to shuffle your data so the inherent order doesn't affect learning)\n",
        "not_shuffled = tf.constant([[10, 7],\n",
        "                            [3, 4],\n",
        "                            [2, 5]])\n",
        "not_shuffled"
      ]
    },
    {
      "cell_type": "code",
      "source": [
        "tf.random.shuffle(not_shuffled, seed=42)"
      ],
      "metadata": {
        "colab": {
          "base_uri": "https://localhost:8080/"
        },
        "id": "cMjtqFhNMuT5",
        "outputId": "bd2d1e94-a069-45f7-ca23-1541645afdb5"
      },
      "execution_count": 21,
      "outputs": [
        {
          "output_type": "execute_result",
          "data": {
            "text/plain": [
              "<tf.Tensor: shape=(3, 2), dtype=int32, numpy=\n",
              "array([[ 2,  5],\n",
              "       [ 3,  4],\n",
              "       [10,  7]], dtype=int32)>"
            ]
          },
          "metadata": {},
          "execution_count": 21
        }
      ]
    },
    {
      "cell_type": "markdown",
      "source": [
        "⚒ **Exercise:** Read through documentation on random seed generation: https://www.tensorflow.org/api_docs/python/tf/random/set_seed and practice writing 5 random tensors and shuffle them.*italicized text*\n",
        "\n",
        "It looks like if we want our shuffled tensors to be in the same order , we've got the use the global level random seed as well as operational level random seed:\n",
        "\n",
        "> Rule 4: \"If both the global and the operation seed are set: Both seeds are used in conjunction to determine the random sequence.\""
      ],
      "metadata": {
        "id": "luqrfxYXOKAe"
      }
    },
    {
      "cell_type": "code",
      "source": [
        "practice_shuffle = tf.constant([[[1, 2], [3, 4], [5, 6]],\n",
        "                                [[7, 8], [9, 10], [11, 12]],\n",
        "                                [[13, 14], [15, 16], [17, 18]],\n",
        "                                [[19, 20], [21, 22], [23, 24]],\n",
        "                                [[25, 26], [27, 28], [29, 30]]])\n",
        "practice_shuffle"
      ],
      "metadata": {
        "colab": {
          "base_uri": "https://localhost:8080/"
        },
        "id": "_4gCg4XmNNBO",
        "outputId": "dc6d4326-633a-43a9-ea84-4065aac0eb9c"
      },
      "execution_count": 22,
      "outputs": [
        {
          "output_type": "execute_result",
          "data": {
            "text/plain": [
              "<tf.Tensor: shape=(5, 3, 2), dtype=int32, numpy=\n",
              "array([[[ 1,  2],\n",
              "        [ 3,  4],\n",
              "        [ 5,  6]],\n",
              "\n",
              "       [[ 7,  8],\n",
              "        [ 9, 10],\n",
              "        [11, 12]],\n",
              "\n",
              "       [[13, 14],\n",
              "        [15, 16],\n",
              "        [17, 18]],\n",
              "\n",
              "       [[19, 20],\n",
              "        [21, 22],\n",
              "        [23, 24]],\n",
              "\n",
              "       [[25, 26],\n",
              "        [27, 28],\n",
              "        [29, 30]]], dtype=int32)>"
            ]
          },
          "metadata": {},
          "execution_count": 22
        }
      ]
    },
    {
      "cell_type": "code",
      "source": [
        "tf.random.set_seed(42) # global level random seed\n",
        "tf.random.shuffle(practice_shuffle, seed=42) # operational level random seed"
      ],
      "metadata": {
        "colab": {
          "base_uri": "https://localhost:8080/"
        },
        "id": "eX_jig3AQFlp",
        "outputId": "50ccb152-e2d8-46fb-f703-4f479591045a"
      },
      "execution_count": 23,
      "outputs": [
        {
          "output_type": "execute_result",
          "data": {
            "text/plain": [
              "<tf.Tensor: shape=(5, 3, 2), dtype=int32, numpy=\n",
              "array([[[19, 20],\n",
              "        [21, 22],\n",
              "        [23, 24]],\n",
              "\n",
              "       [[ 1,  2],\n",
              "        [ 3,  4],\n",
              "        [ 5,  6]],\n",
              "\n",
              "       [[ 7,  8],\n",
              "        [ 9, 10],\n",
              "        [11, 12]],\n",
              "\n",
              "       [[13, 14],\n",
              "        [15, 16],\n",
              "        [17, 18]],\n",
              "\n",
              "       [[25, 26],\n",
              "        [27, 28],\n",
              "        [29, 30]]], dtype=int32)>"
            ]
          },
          "metadata": {},
          "execution_count": 23
        }
      ]
    },
    {
      "cell_type": "markdown",
      "source": [
        "### Other ways to make tensors"
      ],
      "metadata": {
        "id": "k6wqz9qPVnFT"
      }
    },
    {
      "cell_type": "code",
      "source": [
        "# Create a tensor of all ones\n",
        "tf.ones([10, 7])"
      ],
      "metadata": {
        "colab": {
          "base_uri": "https://localhost:8080/"
        },
        "id": "cqQEHVRCQXlm",
        "outputId": "f17dcd76-c516-4752-eeee-65adfdc505a1"
      },
      "execution_count": 24,
      "outputs": [
        {
          "output_type": "execute_result",
          "data": {
            "text/plain": [
              "<tf.Tensor: shape=(10, 7), dtype=float32, numpy=\n",
              "array([[1., 1., 1., 1., 1., 1., 1.],\n",
              "       [1., 1., 1., 1., 1., 1., 1.],\n",
              "       [1., 1., 1., 1., 1., 1., 1.],\n",
              "       [1., 1., 1., 1., 1., 1., 1.],\n",
              "       [1., 1., 1., 1., 1., 1., 1.],\n",
              "       [1., 1., 1., 1., 1., 1., 1.],\n",
              "       [1., 1., 1., 1., 1., 1., 1.],\n",
              "       [1., 1., 1., 1., 1., 1., 1.],\n",
              "       [1., 1., 1., 1., 1., 1., 1.],\n",
              "       [1., 1., 1., 1., 1., 1., 1.]], dtype=float32)>"
            ]
          },
          "metadata": {},
          "execution_count": 24
        }
      ]
    },
    {
      "cell_type": "code",
      "source": [
        "# Create a tensor of all zeros\n",
        "tf.zeros(shape=(3, 4))"
      ],
      "metadata": {
        "colab": {
          "base_uri": "https://localhost:8080/"
        },
        "id": "6q79UzsFVzPV",
        "outputId": "6410e641-3097-4164-e547-b55c139c0a7b"
      },
      "execution_count": 25,
      "outputs": [
        {
          "output_type": "execute_result",
          "data": {
            "text/plain": [
              "<tf.Tensor: shape=(3, 4), dtype=float32, numpy=\n",
              "array([[0., 0., 0., 0.],\n",
              "       [0., 0., 0., 0.],\n",
              "       [0., 0., 0., 0.]], dtype=float32)>"
            ]
          },
          "metadata": {},
          "execution_count": 25
        }
      ]
    },
    {
      "cell_type": "markdown",
      "source": [
        "## Turn Numpy arrays into Tensors\n",
        "\n",
        "The main difference between Numpy arrays and tensorflow Tensor is that tensors can be run on GPU ( must Faster for numerical Computing )"
      ],
      "metadata": {
        "id": "rlYBePQvWbHq"
      }
    },
    {
      "cell_type": "code",
      "source": [
        "# You can also turn numpy array into tensors\n",
        "import numpy as np\n",
        "numpy_A = np.arange(1, 25, dtype=np.int32) # Create a Numpy array between 1 and 25\n",
        "numpy_A"
      ],
      "metadata": {
        "colab": {
          "base_uri": "https://localhost:8080/"
        },
        "id": "fCSb8_iDWFvM",
        "outputId": "922fa66b-e8f1-4d5c-9314-ba1f8827ae43"
      },
      "execution_count": 26,
      "outputs": [
        {
          "output_type": "execute_result",
          "data": {
            "text/plain": [
              "array([ 1,  2,  3,  4,  5,  6,  7,  8,  9, 10, 11, 12, 13, 14, 15, 16, 17,\n",
              "       18, 19, 20, 21, 22, 23, 24], dtype=int32)"
            ]
          },
          "metadata": {},
          "execution_count": 26
        }
      ]
    },
    {
      "cell_type": "code",
      "source": [
        "A = tf.constant(numpy_A, shape=(2, 3, 4))\n",
        "B = tf.constant(numpy_A)\n",
        "A, B"
      ],
      "metadata": {
        "colab": {
          "base_uri": "https://localhost:8080/"
        },
        "id": "UduYkpZ5XZ4F",
        "outputId": "b41aa16c-63c8-4973-a3dd-451141edaf22"
      },
      "execution_count": 27,
      "outputs": [
        {
          "output_type": "execute_result",
          "data": {
            "text/plain": [
              "(<tf.Tensor: shape=(2, 3, 4), dtype=int32, numpy=\n",
              " array([[[ 1,  2,  3,  4],\n",
              "         [ 5,  6,  7,  8],\n",
              "         [ 9, 10, 11, 12]],\n",
              " \n",
              "        [[13, 14, 15, 16],\n",
              "         [17, 18, 19, 20],\n",
              "         [21, 22, 23, 24]]], dtype=int32)>,\n",
              " <tf.Tensor: shape=(24,), dtype=int32, numpy=\n",
              " array([ 1,  2,  3,  4,  5,  6,  7,  8,  9, 10, 11, 12, 13, 14, 15, 16, 17,\n",
              "        18, 19, 20, 21, 22, 23, 24], dtype=int32)>)"
            ]
          },
          "metadata": {},
          "execution_count": 27
        }
      ]
    },
    {
      "cell_type": "code",
      "source": [
        "B.ndim"
      ],
      "metadata": {
        "colab": {
          "base_uri": "https://localhost:8080/"
        },
        "id": "5yea08phXeBG",
        "outputId": "680530b3-9a64-4b74-8996-c9f938561abf"
      },
      "execution_count": 28,
      "outputs": [
        {
          "output_type": "execute_result",
          "data": {
            "text/plain": [
              "1"
            ]
          },
          "metadata": {},
          "execution_count": 28
        }
      ]
    },
    {
      "cell_type": "code",
      "source": [
        "A.ndim"
      ],
      "metadata": {
        "colab": {
          "base_uri": "https://localhost:8080/"
        },
        "id": "OjJckLilX7l_",
        "outputId": "39c211cb-fae8-42b7-d49f-ae4887ae982d"
      },
      "execution_count": 29,
      "outputs": [
        {
          "output_type": "execute_result",
          "data": {
            "text/plain": [
              "3"
            ]
          },
          "metadata": {},
          "execution_count": 29
        }
      ]
    },
    {
      "cell_type": "code",
      "source": [
        "C = tf.constant(numpy_A, shape=(3, 8))\n",
        "C"
      ],
      "metadata": {
        "colab": {
          "base_uri": "https://localhost:8080/"
        },
        "id": "ynRHMl0yYA4O",
        "outputId": "de07cdbd-abbb-4a05-dc4a-9b1fb7bf173c"
      },
      "execution_count": 30,
      "outputs": [
        {
          "output_type": "execute_result",
          "data": {
            "text/plain": [
              "<tf.Tensor: shape=(3, 8), dtype=int32, numpy=\n",
              "array([[ 1,  2,  3,  4,  5,  6,  7,  8],\n",
              "       [ 9, 10, 11, 12, 13, 14, 15, 16],\n",
              "       [17, 18, 19, 20, 21, 22, 23, 24]], dtype=int32)>"
            ]
          },
          "metadata": {},
          "execution_count": 30
        }
      ]
    },
    {
      "cell_type": "markdown",
      "source": [
        "## Getting Information from Tensors\n",
        "\n",
        "When dealing with tensors you probably want to be aware of the following attributes:\n",
        "\n",
        "* Shape\n",
        "* Rank\n",
        "* Axis or dimensions\n",
        "* Size"
      ],
      "metadata": {
        "id": "EFiFj-LfYpaS"
      }
    },
    {
      "cell_type": "code",
      "source": [
        "# Create a rank 4 tensor (4 dimensions)\n",
        "\n",
        "rank_4_tensor = tf.zeros(shape=[2, 3, 4, 5])\n",
        "rank_4_tensor"
      ],
      "metadata": {
        "id": "U6Uk4NvrYePC",
        "colab": {
          "base_uri": "https://localhost:8080/"
        },
        "outputId": "3c2c2ee4-c5cd-40a5-ca87-176982302d5f"
      },
      "execution_count": 31,
      "outputs": [
        {
          "output_type": "execute_result",
          "data": {
            "text/plain": [
              "<tf.Tensor: shape=(2, 3, 4, 5), dtype=float32, numpy=\n",
              "array([[[[0., 0., 0., 0., 0.],\n",
              "         [0., 0., 0., 0., 0.],\n",
              "         [0., 0., 0., 0., 0.],\n",
              "         [0., 0., 0., 0., 0.]],\n",
              "\n",
              "        [[0., 0., 0., 0., 0.],\n",
              "         [0., 0., 0., 0., 0.],\n",
              "         [0., 0., 0., 0., 0.],\n",
              "         [0., 0., 0., 0., 0.]],\n",
              "\n",
              "        [[0., 0., 0., 0., 0.],\n",
              "         [0., 0., 0., 0., 0.],\n",
              "         [0., 0., 0., 0., 0.],\n",
              "         [0., 0., 0., 0., 0.]]],\n",
              "\n",
              "\n",
              "       [[[0., 0., 0., 0., 0.],\n",
              "         [0., 0., 0., 0., 0.],\n",
              "         [0., 0., 0., 0., 0.],\n",
              "         [0., 0., 0., 0., 0.]],\n",
              "\n",
              "        [[0., 0., 0., 0., 0.],\n",
              "         [0., 0., 0., 0., 0.],\n",
              "         [0., 0., 0., 0., 0.],\n",
              "         [0., 0., 0., 0., 0.]],\n",
              "\n",
              "        [[0., 0., 0., 0., 0.],\n",
              "         [0., 0., 0., 0., 0.],\n",
              "         [0., 0., 0., 0., 0.],\n",
              "         [0., 0., 0., 0., 0.]]]], dtype=float32)>"
            ]
          },
          "metadata": {},
          "execution_count": 31
        }
      ]
    },
    {
      "cell_type": "code",
      "source": [
        "rank_4_tensor[0]"
      ],
      "metadata": {
        "colab": {
          "base_uri": "https://localhost:8080/"
        },
        "id": "id1VkRRiSyMc",
        "outputId": "d59dbf30-802b-4eb4-a581-441872669c5e"
      },
      "execution_count": 32,
      "outputs": [
        {
          "output_type": "execute_result",
          "data": {
            "text/plain": [
              "<tf.Tensor: shape=(3, 4, 5), dtype=float32, numpy=\n",
              "array([[[0., 0., 0., 0., 0.],\n",
              "        [0., 0., 0., 0., 0.],\n",
              "        [0., 0., 0., 0., 0.],\n",
              "        [0., 0., 0., 0., 0.]],\n",
              "\n",
              "       [[0., 0., 0., 0., 0.],\n",
              "        [0., 0., 0., 0., 0.],\n",
              "        [0., 0., 0., 0., 0.],\n",
              "        [0., 0., 0., 0., 0.]],\n",
              "\n",
              "       [[0., 0., 0., 0., 0.],\n",
              "        [0., 0., 0., 0., 0.],\n",
              "        [0., 0., 0., 0., 0.],\n",
              "        [0., 0., 0., 0., 0.]]], dtype=float32)>"
            ]
          },
          "metadata": {},
          "execution_count": 32
        }
      ]
    },
    {
      "cell_type": "code",
      "source": [
        "rank_4_tensor.shape, rank_4_tensor.ndim, tf.size(rank_4_tensor)"
      ],
      "metadata": {
        "colab": {
          "base_uri": "https://localhost:8080/"
        },
        "id": "IgobDpIdTkHs",
        "outputId": "f0d6fc24-03f1-4fcf-e497-85c81b7bef2c"
      },
      "execution_count": 33,
      "outputs": [
        {
          "output_type": "execute_result",
          "data": {
            "text/plain": [
              "(TensorShape([2, 3, 4, 5]), 4, <tf.Tensor: shape=(), dtype=int32, numpy=120>)"
            ]
          },
          "metadata": {},
          "execution_count": 33
        }
      ]
    },
    {
      "cell_type": "code",
      "source": [
        "2 * 3 * 4 * 5"
      ],
      "metadata": {
        "colab": {
          "base_uri": "https://localhost:8080/"
        },
        "id": "1ecpf-v3UEu_",
        "outputId": "1b9b05d6-f103-49ba-dc9c-154505696964"
      },
      "execution_count": 34,
      "outputs": [
        {
          "output_type": "execute_result",
          "data": {
            "text/plain": [
              "120"
            ]
          },
          "metadata": {},
          "execution_count": 34
        }
      ]
    },
    {
      "cell_type": "code",
      "source": [
        "# Get various attributes of our tensor\n",
        "print(\"Datatype of every element : \", rank_4_tensor.dtype)\n",
        "print(\"Number of Dimensions (rank) : \", rank_4_tensor.ndim)\n",
        "print(\"Sahpe of tensor : \", rank_4_tensor.shape)\n",
        "print(\"Elements along the 0 axis : \", rank_4_tensor.shape[0])\n",
        "print(\"Elements along the last axis : \", rank_4_tensor.shape[-1])\n",
        "print(\"Total number of elements in our tensor : \", tf.size(rank_4_tensor))\n",
        "print(\"Total number of elements in our tensor : \", tf.size(rank_4_tensor).numpy())"
      ],
      "metadata": {
        "colab": {
          "base_uri": "https://localhost:8080/"
        },
        "id": "LqYMj-nYUIn-",
        "outputId": "f52aaef1-bd27-44ba-cbbb-ca35c550ec79"
      },
      "execution_count": 35,
      "outputs": [
        {
          "output_type": "stream",
          "name": "stdout",
          "text": [
            "Datatype of every element :  <dtype: 'float32'>\n",
            "Number of Dimensions (rank) :  4\n",
            "Sahpe of tensor :  (2, 3, 4, 5)\n",
            "Elements along the 0 axis :  2\n",
            "Elements along the last axis :  5\n",
            "Total number of elements in our tensor :  tf.Tensor(120, shape=(), dtype=int32)\n",
            "Total number of elements in our tensor :  120\n"
          ]
        }
      ]
    },
    {
      "cell_type": "markdown",
      "source": [
        "### Indexing tensors\n",
        "\n",
        "Tensors can be indexed just like python list."
      ],
      "metadata": {
        "id": "mt3svx9_YLrh"
      }
    },
    {
      "cell_type": "code",
      "source": [
        "# Get the firest 2 elements of each dimension\n",
        "rank_4_tensor[:2, :2, :2, :2]"
      ],
      "metadata": {
        "colab": {
          "base_uri": "https://localhost:8080/"
        },
        "id": "99ZnFypdWZwe",
        "outputId": "e33c8c44-d4d7-437d-e8c2-b3e9aba3d19e"
      },
      "execution_count": 36,
      "outputs": [
        {
          "output_type": "execute_result",
          "data": {
            "text/plain": [
              "<tf.Tensor: shape=(2, 2, 2, 2), dtype=float32, numpy=\n",
              "array([[[[0., 0.],\n",
              "         [0., 0.]],\n",
              "\n",
              "        [[0., 0.],\n",
              "         [0., 0.]]],\n",
              "\n",
              "\n",
              "       [[[0., 0.],\n",
              "         [0., 0.]],\n",
              "\n",
              "        [[0., 0.],\n",
              "         [0., 0.]]]], dtype=float32)>"
            ]
          },
          "metadata": {},
          "execution_count": 36
        }
      ]
    },
    {
      "cell_type": "code",
      "source": [
        "# Get the first element from each dimensions from each index except for the final one\n",
        "rank_4_tensor[:1, :1, :, :1 ]"
      ],
      "metadata": {
        "colab": {
          "base_uri": "https://localhost:8080/"
        },
        "id": "ttjja3s0Ysou",
        "outputId": "d26fe77e-d557-4eec-b713-52360e6295fc"
      },
      "execution_count": 37,
      "outputs": [
        {
          "output_type": "execute_result",
          "data": {
            "text/plain": [
              "<tf.Tensor: shape=(1, 1, 4, 1), dtype=float32, numpy=\n",
              "array([[[[0.],\n",
              "         [0.],\n",
              "         [0.],\n",
              "         [0.]]]], dtype=float32)>"
            ]
          },
          "metadata": {},
          "execution_count": 37
        }
      ]
    },
    {
      "cell_type": "code",
      "source": [
        "# Create rank 2 tensor ( 2 dimensions)\n",
        "rank_2_tensor = tf.constant([[10, 7],\n",
        "                             [2,3]])\n",
        "rank_2_tensor.shape, rank_2_tensor.ndim"
      ],
      "metadata": {
        "colab": {
          "base_uri": "https://localhost:8080/"
        },
        "id": "su1dCMObfLXQ",
        "outputId": "744db13e-d938-49e8-af6b-61e26ab18876"
      },
      "execution_count": 38,
      "outputs": [
        {
          "output_type": "execute_result",
          "data": {
            "text/plain": [
              "(TensorShape([2, 2]), 2)"
            ]
          },
          "metadata": {},
          "execution_count": 38
        }
      ]
    },
    {
      "cell_type": "code",
      "source": [
        "rank_2_tensor"
      ],
      "metadata": {
        "colab": {
          "base_uri": "https://localhost:8080/"
        },
        "id": "f2Qd2Y9_gYIR",
        "outputId": "5993ca5d-cde8-4613-bea5-cd63ba8ad8d9"
      },
      "execution_count": 39,
      "outputs": [
        {
          "output_type": "execute_result",
          "data": {
            "text/plain": [
              "<tf.Tensor: shape=(2, 2), dtype=int32, numpy=\n",
              "array([[10,  7],\n",
              "       [ 2,  3]], dtype=int32)>"
            ]
          },
          "metadata": {},
          "execution_count": 39
        }
      ]
    },
    {
      "cell_type": "code",
      "source": [
        "# Get the last item of each of row of our rank 2 tensor\n",
        "rank_2_tensor[ : , -1]"
      ],
      "metadata": {
        "colab": {
          "base_uri": "https://localhost:8080/"
        },
        "id": "1WfAIjjVgjkK",
        "outputId": "61daca09-fb5d-4eb5-8f8c-e8cfbc1eaeac"
      },
      "execution_count": 40,
      "outputs": [
        {
          "output_type": "execute_result",
          "data": {
            "text/plain": [
              "<tf.Tensor: shape=(2,), dtype=int32, numpy=array([7, 3], dtype=int32)>"
            ]
          },
          "metadata": {},
          "execution_count": 40
        }
      ]
    },
    {
      "cell_type": "code",
      "source": [
        "# Add in extra dimension to our rank 2 tensor\n",
        "rank_3_tensor = rank_2_tensor[..., tf.newaxis]\n",
        "rank_3_tensor"
      ],
      "metadata": {
        "colab": {
          "base_uri": "https://localhost:8080/"
        },
        "id": "sKka8ErDh3xm",
        "outputId": "63ea8fe3-0911-41de-cdf0-a74c93202419"
      },
      "execution_count": 41,
      "outputs": [
        {
          "output_type": "execute_result",
          "data": {
            "text/plain": [
              "<tf.Tensor: shape=(2, 2, 1), dtype=int32, numpy=\n",
              "array([[[10],\n",
              "        [ 7]],\n",
              "\n",
              "       [[ 2],\n",
              "        [ 3]]], dtype=int32)>"
            ]
          },
          "metadata": {},
          "execution_count": 41
        }
      ]
    },
    {
      "cell_type": "code",
      "source": [
        "# Alternative to tf.newaxis\n",
        "tf.expand_dims(rank_2_tensor, axis=-1) # \"-1\" means expand the final axis"
      ],
      "metadata": {
        "colab": {
          "base_uri": "https://localhost:8080/"
        },
        "id": "OMV1ap7Wkc9G",
        "outputId": "6139381c-99eb-4caa-8e27-b5d43246b634"
      },
      "execution_count": 42,
      "outputs": [
        {
          "output_type": "execute_result",
          "data": {
            "text/plain": [
              "<tf.Tensor: shape=(2, 2, 1), dtype=int32, numpy=\n",
              "array([[[10],\n",
              "        [ 7]],\n",
              "\n",
              "       [[ 2],\n",
              "        [ 3]]], dtype=int32)>"
            ]
          },
          "metadata": {},
          "execution_count": 42
        }
      ]
    },
    {
      "cell_type": "code",
      "source": [
        "tf.expand_dims(rank_2_tensor, axis=0) # \"0\" means expand the 0-axis"
      ],
      "metadata": {
        "colab": {
          "base_uri": "https://localhost:8080/"
        },
        "id": "o2z9poEGli37",
        "outputId": "4a5963b4-a7fb-4902-b604-b0917be3683c"
      },
      "execution_count": 43,
      "outputs": [
        {
          "output_type": "execute_result",
          "data": {
            "text/plain": [
              "<tf.Tensor: shape=(1, 2, 2), dtype=int32, numpy=\n",
              "array([[[10,  7],\n",
              "        [ 2,  3]]], dtype=int32)>"
            ]
          },
          "metadata": {},
          "execution_count": 43
        }
      ]
    },
    {
      "cell_type": "code",
      "source": [
        "rank_2_tensor"
      ],
      "metadata": {
        "colab": {
          "base_uri": "https://localhost:8080/"
        },
        "id": "uYVBnRHemCR4",
        "outputId": "237c816d-a81f-47c9-e225-f6a986b02b52"
      },
      "execution_count": 44,
      "outputs": [
        {
          "output_type": "execute_result",
          "data": {
            "text/plain": [
              "<tf.Tensor: shape=(2, 2), dtype=int32, numpy=\n",
              "array([[10,  7],\n",
              "       [ 2,  3]], dtype=int32)>"
            ]
          },
          "metadata": {},
          "execution_count": 44
        }
      ]
    },
    {
      "cell_type": "markdown",
      "source": [
        "## Manipulating Tensors ( tensor operation )\n",
        "\n",
        "**Baisc Operation**\n",
        "`+`, `-`, `*`, `/`"
      ],
      "metadata": {
        "id": "YCBfdSInFvsG"
      }
    },
    {
      "cell_type": "code",
      "source": [
        "# You can add values to a tensor using addition operator\n",
        "\n",
        "tensor = tf.constant([[10, 7], [3, 4]])\n",
        "tensor + 10"
      ],
      "metadata": {
        "colab": {
          "base_uri": "https://localhost:8080/"
        },
        "id": "ao-G_TzcmsWG",
        "outputId": "31f90aac-b998-4eee-dabf-badbdbd2fb83"
      },
      "execution_count": 45,
      "outputs": [
        {
          "output_type": "execute_result",
          "data": {
            "text/plain": [
              "<tf.Tensor: shape=(2, 2), dtype=int32, numpy=\n",
              "array([[20, 17],\n",
              "       [13, 14]], dtype=int32)>"
            ]
          },
          "metadata": {},
          "execution_count": 45
        }
      ]
    },
    {
      "cell_type": "code",
      "source": [
        "# Original tensor is unchanged\n",
        "tensor"
      ],
      "metadata": {
        "colab": {
          "base_uri": "https://localhost:8080/"
        },
        "id": "JCZ8pxtqHaYn",
        "outputId": "41044787-8e85-4f18-85bd-73fc1caa4be1"
      },
      "execution_count": 46,
      "outputs": [
        {
          "output_type": "execute_result",
          "data": {
            "text/plain": [
              "<tf.Tensor: shape=(2, 2), dtype=int32, numpy=\n",
              "array([[10,  7],\n",
              "       [ 3,  4]], dtype=int32)>"
            ]
          },
          "metadata": {},
          "execution_count": 46
        }
      ]
    },
    {
      "cell_type": "code",
      "source": [
        "# Multiplication\n",
        "tensor * 10"
      ],
      "metadata": {
        "colab": {
          "base_uri": "https://localhost:8080/"
        },
        "id": "fkdw37NpHsVY",
        "outputId": "20d94805-b39e-468a-f11e-b778bf937184"
      },
      "execution_count": 47,
      "outputs": [
        {
          "output_type": "execute_result",
          "data": {
            "text/plain": [
              "<tf.Tensor: shape=(2, 2), dtype=int32, numpy=\n",
              "array([[100,  70],\n",
              "       [ 30,  40]], dtype=int32)>"
            ]
          },
          "metadata": {},
          "execution_count": 47
        }
      ]
    },
    {
      "cell_type": "code",
      "source": [
        "# Subtraction\n",
        "tensor - 5"
      ],
      "metadata": {
        "colab": {
          "base_uri": "https://localhost:8080/"
        },
        "id": "BUD5fB88HxV6",
        "outputId": "0d207003-5107-4375-93c3-1b0afc3dfda0"
      },
      "execution_count": 48,
      "outputs": [
        {
          "output_type": "execute_result",
          "data": {
            "text/plain": [
              "<tf.Tensor: shape=(2, 2), dtype=int32, numpy=\n",
              "array([[ 5,  2],\n",
              "       [-2, -1]], dtype=int32)>"
            ]
          },
          "metadata": {},
          "execution_count": 48
        }
      ]
    },
    {
      "cell_type": "code",
      "source": [
        "# We can use tensorflow built-in function too\n",
        "tf.multiply(tensor, 10)"
      ],
      "metadata": {
        "colab": {
          "base_uri": "https://localhost:8080/"
        },
        "id": "CW6pUFOFH2AG",
        "outputId": "7c331730-a56e-45e4-9665-b17854ddd2a8"
      },
      "execution_count": 49,
      "outputs": [
        {
          "output_type": "execute_result",
          "data": {
            "text/plain": [
              "<tf.Tensor: shape=(2, 2), dtype=int32, numpy=\n",
              "array([[100,  70],\n",
              "       [ 30,  40]], dtype=int32)>"
            ]
          },
          "metadata": {},
          "execution_count": 49
        }
      ]
    },
    {
      "cell_type": "markdown",
      "source": [
        "## **Matrix Multiplication**\n",
        "\n",
        "In machine learning, matrix multiplication is one of common tensor operations\n",
        "\n",
        "There are two rules our tensor ( or metrices ) need to fulfill if we're going to matrix multiply them:\n",
        "\n",
        "1. The inner dimensions must match\n",
        "2. The resulting matrix has the shape of the inner dimensions"
      ],
      "metadata": {
        "id": "DY51k-LZI2pA"
      }
    },
    {
      "cell_type": "code",
      "source": [
        "# Matrix Multiplication in tensorflow\n",
        "print(tensor)\n",
        "tf.matmul(tensor, tensor)"
      ],
      "metadata": {
        "id": "KT-nojonIjCC",
        "colab": {
          "base_uri": "https://localhost:8080/"
        },
        "outputId": "b3f4158d-5456-48c4-def6-55b85ed6aeac"
      },
      "execution_count": 50,
      "outputs": [
        {
          "output_type": "stream",
          "name": "stdout",
          "text": [
            "tf.Tensor(\n",
            "[[10  7]\n",
            " [ 3  4]], shape=(2, 2), dtype=int32)\n"
          ]
        },
        {
          "output_type": "execute_result",
          "data": {
            "text/plain": [
              "<tf.Tensor: shape=(2, 2), dtype=int32, numpy=\n",
              "array([[121,  98],\n",
              "       [ 42,  37]], dtype=int32)>"
            ]
          },
          "metadata": {},
          "execution_count": 50
        }
      ]
    },
    {
      "cell_type": "code",
      "source": [
        "# Matrix Multiplication using python operator @\n",
        "\n",
        "tensor @ tensor"
      ],
      "metadata": {
        "colab": {
          "base_uri": "https://localhost:8080/"
        },
        "id": "iEex9_j4TX-J",
        "outputId": "90abb249-82c1-4ddf-d1a2-e62f62efde11"
      },
      "execution_count": 51,
      "outputs": [
        {
          "output_type": "execute_result",
          "data": {
            "text/plain": [
              "<tf.Tensor: shape=(2, 2), dtype=int32, numpy=\n",
              "array([[121,  98],\n",
              "       [ 42,  37]], dtype=int32)>"
            ]
          },
          "metadata": {},
          "execution_count": 51
        }
      ]
    },
    {
      "cell_type": "code",
      "source": [
        "# Create a tensor (3, 2)\n",
        "tensor_1 = tf.constant([[1, 2, 5],\n",
        "                        [7, 2, 1],\n",
        "                        [3, 3, 3]])\n",
        "tensor_2 = tf.constant([[3, 5],\n",
        "                        [6, 7],\n",
        "                        [1, 8]])\n",
        "\n",
        "tensor_1, tensor_2"
      ],
      "metadata": {
        "colab": {
          "base_uri": "https://localhost:8080/"
        },
        "id": "KYxJUCqCVTrw",
        "outputId": "b58a2705-2a45-4131-9ffb-c1e2a96a1729"
      },
      "execution_count": 52,
      "outputs": [
        {
          "output_type": "execute_result",
          "data": {
            "text/plain": [
              "(<tf.Tensor: shape=(3, 3), dtype=int32, numpy=\n",
              " array([[1, 2, 5],\n",
              "        [7, 2, 1],\n",
              "        [3, 3, 3]], dtype=int32)>,\n",
              " <tf.Tensor: shape=(3, 2), dtype=int32, numpy=\n",
              " array([[3, 5],\n",
              "        [6, 7],\n",
              "        [1, 8]], dtype=int32)>)"
            ]
          },
          "metadata": {},
          "execution_count": 52
        }
      ]
    },
    {
      "cell_type": "code",
      "source": [
        "tensor_multi = tf.matmul(tensor_1, tensor_2)\n",
        "tensor_multi"
      ],
      "metadata": {
        "colab": {
          "base_uri": "https://localhost:8080/"
        },
        "id": "wvcKfvicWFZi",
        "outputId": "e2c7527d-f827-4a29-a5cc-950d3e325d82"
      },
      "execution_count": 53,
      "outputs": [
        {
          "output_type": "execute_result",
          "data": {
            "text/plain": [
              "<tf.Tensor: shape=(3, 2), dtype=int32, numpy=\n",
              "array([[20, 59],\n",
              "       [34, 57],\n",
              "       [30, 60]], dtype=int32)>"
            ]
          },
          "metadata": {},
          "execution_count": 53
        }
      ]
    },
    {
      "cell_type": "code",
      "source": [
        "x = tf.constant([[1, 2],\n",
        "                 [3, 4],\n",
        "                 [5, 6]])\n",
        "y = tf.constant([[3, 5],\n",
        "                 [6, 7],\n",
        "                 [1, 8]])\n",
        "\n",
        "x, y"
      ],
      "metadata": {
        "colab": {
          "base_uri": "https://localhost:8080/"
        },
        "id": "wIiiJPDNWMYJ",
        "outputId": "e730a61f-7335-4598-bf6a-05e246f1b5e9"
      },
      "execution_count": 54,
      "outputs": [
        {
          "output_type": "execute_result",
          "data": {
            "text/plain": [
              "(<tf.Tensor: shape=(3, 2), dtype=int32, numpy=\n",
              " array([[1, 2],\n",
              "        [3, 4],\n",
              "        [5, 6]], dtype=int32)>,\n",
              " <tf.Tensor: shape=(3, 2), dtype=int32, numpy=\n",
              " array([[3, 5],\n",
              "        [6, 7],\n",
              "        [1, 8]], dtype=int32)>)"
            ]
          },
          "metadata": {},
          "execution_count": 54
        }
      ]
    },
    {
      "cell_type": "code",
      "source": [
        "x @ tf.reshape(y, shape=(2, 3))"
      ],
      "metadata": {
        "colab": {
          "base_uri": "https://localhost:8080/"
        },
        "id": "PayNy20lZnGt",
        "outputId": "0a20821e-0561-4279-8154-787e72357bc4"
      },
      "execution_count": 55,
      "outputs": [
        {
          "output_type": "execute_result",
          "data": {
            "text/plain": [
              "<tf.Tensor: shape=(3, 3), dtype=int32, numpy=\n",
              "array([[17,  7, 22],\n",
              "       [37, 19, 50],\n",
              "       [57, 31, 78]], dtype=int32)>"
            ]
          },
          "metadata": {},
          "execution_count": 55
        }
      ]
    },
    {
      "cell_type": "code",
      "source": [
        "x.shape, y.shape"
      ],
      "metadata": {
        "colab": {
          "base_uri": "https://localhost:8080/"
        },
        "id": "PIIb7uiaZpK4",
        "outputId": "a42cbebb-7080-44d2-b057-caf607c01a8c"
      },
      "execution_count": 56,
      "outputs": [
        {
          "output_type": "execute_result",
          "data": {
            "text/plain": [
              "(TensorShape([3, 2]), TensorShape([3, 2]))"
            ]
          },
          "metadata": {},
          "execution_count": 56
        }
      ]
    },
    {
      "cell_type": "code",
      "source": [
        "tf.reshape(x, [2, 3]) @ y"
      ],
      "metadata": {
        "colab": {
          "base_uri": "https://localhost:8080/"
        },
        "id": "gJPw_EMMbVvX",
        "outputId": "ceead594-6181-447b-def8-6f1d92d6d268"
      },
      "execution_count": 57,
      "outputs": [
        {
          "output_type": "execute_result",
          "data": {
            "text/plain": [
              "<tf.Tensor: shape=(2, 2), dtype=int32, numpy=\n",
              "array([[ 18,  43],\n",
              "       [ 48, 103]], dtype=int32)>"
            ]
          },
          "metadata": {},
          "execution_count": 57
        }
      ]
    },
    {
      "cell_type": "code",
      "source": [
        "# we can do this with the Transpose\n",
        "\n",
        "x, tf.transpose(x), tf.reshape(x, [2, 3])"
      ],
      "metadata": {
        "colab": {
          "base_uri": "https://localhost:8080/"
        },
        "id": "-ejDsJVlbchk",
        "outputId": "ec6fc517-363e-4256-b440-b33fb625dd93"
      },
      "execution_count": 58,
      "outputs": [
        {
          "output_type": "execute_result",
          "data": {
            "text/plain": [
              "(<tf.Tensor: shape=(3, 2), dtype=int32, numpy=\n",
              " array([[1, 2],\n",
              "        [3, 4],\n",
              "        [5, 6]], dtype=int32)>,\n",
              " <tf.Tensor: shape=(2, 3), dtype=int32, numpy=\n",
              " array([[1, 3, 5],\n",
              "        [2, 4, 6]], dtype=int32)>,\n",
              " <tf.Tensor: shape=(2, 3), dtype=int32, numpy=\n",
              " array([[1, 2, 3],\n",
              "        [4, 5, 6]], dtype=int32)>)"
            ]
          },
          "metadata": {},
          "execution_count": 58
        }
      ]
    },
    {
      "cell_type": "code",
      "source": [
        "# Try matrix multiplication with transpose rather than reshape\n",
        "tf.matmul(tf.transpose(x), y)"
      ],
      "metadata": {
        "colab": {
          "base_uri": "https://localhost:8080/"
        },
        "id": "BZdl8ED2cO1q",
        "outputId": "594c5371-d043-41cf-f5fb-a8adab729e20"
      },
      "execution_count": 59,
      "outputs": [
        {
          "output_type": "execute_result",
          "data": {
            "text/plain": [
              "<tf.Tensor: shape=(2, 2), dtype=int32, numpy=\n",
              "array([[26, 66],\n",
              "       [36, 86]], dtype=int32)>"
            ]
          },
          "metadata": {},
          "execution_count": 59
        }
      ]
    },
    {
      "cell_type": "code",
      "source": [
        "tf.tensordot(tf.transpose(x), y, axes=1)"
      ],
      "metadata": {
        "colab": {
          "base_uri": "https://localhost:8080/"
        },
        "id": "zbbffAQQc9Gz",
        "outputId": "266e04fc-5fc4-4d7d-d844-dff581fa4d8d"
      },
      "execution_count": 60,
      "outputs": [
        {
          "output_type": "execute_result",
          "data": {
            "text/plain": [
              "<tf.Tensor: shape=(2, 2), dtype=int32, numpy=\n",
              "array([[26, 66],\n",
              "       [36, 86]], dtype=int32)>"
            ]
          },
          "metadata": {},
          "execution_count": 60
        }
      ]
    },
    {
      "cell_type": "markdown",
      "source": [
        "Generally, When performing matrix multiplication on two tensors and one of the axes doesn't line up, you will transpose ( rather than reshape ) one of the tensors to get satisfy the matrix multiplication rules."
      ],
      "metadata": {
        "id": "eRWYOjIpfTV7"
      }
    },
    {
      "cell_type": "markdown",
      "source": [
        "# **Aggregation**"
      ],
      "metadata": {
        "id": "0YEr34oZBB96"
      }
    },
    {
      "cell_type": "code",
      "source": [
        "k = tf.constant([-7, -10])\n",
        "k"
      ],
      "metadata": {
        "colab": {
          "base_uri": "https://localhost:8080/"
        },
        "id": "bXXXUfZHeJxH",
        "outputId": "6f6d9771-a455-4c71-cae0-023dfd7fcfd2"
      },
      "execution_count": 61,
      "outputs": [
        {
          "output_type": "execute_result",
          "data": {
            "text/plain": [
              "<tf.Tensor: shape=(2,), dtype=int32, numpy=array([ -7, -10], dtype=int32)>"
            ]
          },
          "metadata": {},
          "execution_count": 61
        }
      ]
    },
    {
      "cell_type": "code",
      "source": [
        "tf.abs(k)"
      ],
      "metadata": {
        "colab": {
          "base_uri": "https://localhost:8080/"
        },
        "id": "3BUdj21sBXHF",
        "outputId": "2b47136a-6057-44de-f213-e4a4298ddd02"
      },
      "execution_count": 62,
      "outputs": [
        {
          "output_type": "execute_result",
          "data": {
            "text/plain": [
              "<tf.Tensor: shape=(2,), dtype=int32, numpy=array([ 7, 10], dtype=int32)>"
            ]
          },
          "metadata": {},
          "execution_count": 62
        }
      ]
    },
    {
      "cell_type": "markdown",
      "source": [
        "Let's go through the following form of aggregation:\n",
        "\n",
        "* Get the minimum\n",
        "* Get the maximum\n",
        "* Get the mean of tensor\n",
        "* Get the sum of tensor"
      ],
      "metadata": {
        "id": "IbTGPtN9Bbaw"
      }
    },
    {
      "cell_type": "code",
      "source": [
        "# Create a random tensor with values between 0 to 100 of size 50\n",
        "e = tf.constant(np.random.randint(0, 100, size=50))\n",
        "e"
      ],
      "metadata": {
        "colab": {
          "base_uri": "https://localhost:8080/"
        },
        "id": "C2wWcohIBaW1",
        "outputId": "b444b630-c427-4fd8-dd2e-843d6dd1419c"
      },
      "execution_count": 63,
      "outputs": [
        {
          "output_type": "execute_result",
          "data": {
            "text/plain": [
              "<tf.Tensor: shape=(50,), dtype=int64, numpy=\n",
              "array([30, 50, 10, 78, 42, 55,  1, 14, 63, 48, 88,  1, 70,  5, 36, 94, 24,\n",
              "       74, 62, 14, 86, 78, 60, 96, 68, 22,  9, 80, 90, 92, 87, 51, 71, 45,\n",
              "       93, 88, 68, 35, 95, 67, 87, 11, 48,  5, 92, 93, 89, 37, 23, 44])>"
            ]
          },
          "metadata": {},
          "execution_count": 63
        }
      ]
    },
    {
      "cell_type": "code",
      "source": [
        "# Find the minimum\n",
        "tf.reduce_min(e)"
      ],
      "metadata": {
        "colab": {
          "base_uri": "https://localhost:8080/"
        },
        "id": "9IwPec6SCXI7",
        "outputId": "b5dda22f-3433-4691-81c0-ee3261aadf23"
      },
      "execution_count": 64,
      "outputs": [
        {
          "output_type": "execute_result",
          "data": {
            "text/plain": [
              "<tf.Tensor: shape=(), dtype=int64, numpy=1>"
            ]
          },
          "metadata": {},
          "execution_count": 64
        }
      ]
    },
    {
      "cell_type": "code",
      "source": [
        "# find the maximum\n",
        "tf.reduce_max(e)"
      ],
      "metadata": {
        "colab": {
          "base_uri": "https://localhost:8080/"
        },
        "id": "ODL62eHmCjbv",
        "outputId": "47ab1b7c-2309-4999-c6b4-e745be1766ed"
      },
      "execution_count": 65,
      "outputs": [
        {
          "output_type": "execute_result",
          "data": {
            "text/plain": [
              "<tf.Tensor: shape=(), dtype=int64, numpy=96>"
            ]
          },
          "metadata": {},
          "execution_count": 65
        }
      ]
    },
    {
      "cell_type": "code",
      "source": [
        "# Find the mean\n",
        "tf.reduce_mean(e)"
      ],
      "metadata": {
        "colab": {
          "base_uri": "https://localhost:8080/"
        },
        "id": "Xg_ewJ01CtlT",
        "outputId": "eabddacb-b573-4715-c5a1-285a05e2ecc5"
      },
      "execution_count": 66,
      "outputs": [
        {
          "output_type": "execute_result",
          "data": {
            "text/plain": [
              "<tf.Tensor: shape=(), dtype=int64, numpy=55>"
            ]
          },
          "metadata": {},
          "execution_count": 66
        }
      ]
    },
    {
      "cell_type": "code",
      "source": [
        "# Get the sum of a tensor\n",
        "tf.reduce_sum(e)"
      ],
      "metadata": {
        "colab": {
          "base_uri": "https://localhost:8080/"
        },
        "id": "SgxGO8SXC5AI",
        "outputId": "32033477-170e-4fcf-ec24-2df52145aa8a"
      },
      "execution_count": 67,
      "outputs": [
        {
          "output_type": "execute_result",
          "data": {
            "text/plain": [
              "<tf.Tensor: shape=(), dtype=int64, numpy=2769>"
            ]
          },
          "metadata": {},
          "execution_count": 67
        }
      ]
    },
    {
      "cell_type": "code",
      "source": [
        "# find the variance\n",
        "import tensorflow_probability as tfp\n",
        "tfp.stats.variance(e)"
      ],
      "metadata": {
        "colab": {
          "base_uri": "https://localhost:8080/"
        },
        "id": "gCfsISutDAg3",
        "outputId": "d10375b7-8ac8-497f-cfe6-ceb32a93b467"
      },
      "execution_count": 68,
      "outputs": [
        {
          "output_type": "execute_result",
          "data": {
            "text/plain": [
              "<tf.Tensor: shape=(), dtype=int64, numpy=934>"
            ]
          },
          "metadata": {},
          "execution_count": 68
        }
      ]
    },
    {
      "cell_type": "code",
      "source": [
        "tf.math.reduce_std(tf.cast(e, dtype=tf.float32))"
      ],
      "metadata": {
        "colab": {
          "base_uri": "https://localhost:8080/"
        },
        "id": "MD98xuxtDOSw",
        "outputId": "edb84289-e410-4a78-ade9-057c1da7d84d"
      },
      "execution_count": 69,
      "outputs": [
        {
          "output_type": "execute_result",
          "data": {
            "text/plain": [
              "<tf.Tensor: shape=(), dtype=float32, numpy=30.567232>"
            ]
          },
          "metadata": {},
          "execution_count": 69
        }
      ]
    },
    {
      "cell_type": "code",
      "source": [
        "tf.math.reduce_variance(tf.cast(e, dtype=tf.float32))"
      ],
      "metadata": {
        "colab": {
          "base_uri": "https://localhost:8080/"
        },
        "id": "RTSny9a2Grdn",
        "outputId": "00a7287c-2d08-4c1a-9f4b-69c91e508ec9"
      },
      "execution_count": 70,
      "outputs": [
        {
          "output_type": "execute_result",
          "data": {
            "text/plain": [
              "<tf.Tensor: shape=(), dtype=float32, numpy=934.35565>"
            ]
          },
          "metadata": {},
          "execution_count": 70
        }
      ]
    },
    {
      "cell_type": "markdown",
      "source": [
        "## Squeezing the tensors ( removing all single dimesnions )"
      ],
      "metadata": {
        "id": "3COrSk8-JHcZ"
      }
    },
    {
      "cell_type": "code",
      "source": [
        "tf.random.set_seed(42)\n",
        "F = tf.constant(tf.random.uniform(shape=[50]), shape=(1, 1, 1, 1, 50))\n",
        "F"
      ],
      "metadata": {
        "colab": {
          "base_uri": "https://localhost:8080/"
        },
        "id": "WlJfpfYoHqF8",
        "outputId": "363d35e5-af31-4efe-972c-57ccbf60ee2a"
      },
      "execution_count": 71,
      "outputs": [
        {
          "output_type": "execute_result",
          "data": {
            "text/plain": [
              "<tf.Tensor: shape=(1, 1, 1, 1, 50), dtype=float32, numpy=\n",
              "array([[[[[0.6645621 , 0.44100678, 0.3528825 , 0.46448255, 0.03366041,\n",
              "           0.68467236, 0.74011743, 0.8724445 , 0.22632635, 0.22319686,\n",
              "           0.3103881 , 0.7223358 , 0.13318717, 0.5480639 , 0.5746088 ,\n",
              "           0.8996835 , 0.00946367, 0.5212307 , 0.6345445 , 0.1993283 ,\n",
              "           0.72942245, 0.54583454, 0.10756552, 0.6767061 , 0.6602763 ,\n",
              "           0.33695042, 0.60141766, 0.21062577, 0.8527372 , 0.44062173,\n",
              "           0.9485276 , 0.23752594, 0.81179297, 0.5263394 , 0.494308  ,\n",
              "           0.21612847, 0.8457197 , 0.8718841 , 0.3083862 , 0.6868038 ,\n",
              "           0.23764038, 0.7817228 , 0.9671384 , 0.06870162, 0.79873943,\n",
              "           0.66028714, 0.5871513 , 0.16461694, 0.7381023 , 0.32054043]]]]],\n",
              "      dtype=float32)>"
            ]
          },
          "metadata": {},
          "execution_count": 71
        }
      ]
    },
    {
      "cell_type": "code",
      "source": [
        "F.shape"
      ],
      "metadata": {
        "colab": {
          "base_uri": "https://localhost:8080/"
        },
        "id": "4P05mdPlJ2G0",
        "outputId": "186b5ac1-7243-4971-a9a9-7a154616df85"
      },
      "execution_count": 72,
      "outputs": [
        {
          "output_type": "execute_result",
          "data": {
            "text/plain": [
              "TensorShape([1, 1, 1, 1, 50])"
            ]
          },
          "metadata": {},
          "execution_count": 72
        }
      ]
    },
    {
      "cell_type": "code",
      "source": [
        "F_squeeze = tf.squeeze(F)\n",
        "F_squeeze, F_squeeze.shape\n"
      ],
      "metadata": {
        "colab": {
          "base_uri": "https://localhost:8080/"
        },
        "id": "QFdTVG9UKTK6",
        "outputId": "9856f2c8-a038-40c3-e8b1-e59ca8cffcf8"
      },
      "execution_count": 73,
      "outputs": [
        {
          "output_type": "execute_result",
          "data": {
            "text/plain": [
              "(<tf.Tensor: shape=(50,), dtype=float32, numpy=\n",
              " array([0.6645621 , 0.44100678, 0.3528825 , 0.46448255, 0.03366041,\n",
              "        0.68467236, 0.74011743, 0.8724445 , 0.22632635, 0.22319686,\n",
              "        0.3103881 , 0.7223358 , 0.13318717, 0.5480639 , 0.5746088 ,\n",
              "        0.8996835 , 0.00946367, 0.5212307 , 0.6345445 , 0.1993283 ,\n",
              "        0.72942245, 0.54583454, 0.10756552, 0.6767061 , 0.6602763 ,\n",
              "        0.33695042, 0.60141766, 0.21062577, 0.8527372 , 0.44062173,\n",
              "        0.9485276 , 0.23752594, 0.81179297, 0.5263394 , 0.494308  ,\n",
              "        0.21612847, 0.8457197 , 0.8718841 , 0.3083862 , 0.6868038 ,\n",
              "        0.23764038, 0.7817228 , 0.9671384 , 0.06870162, 0.79873943,\n",
              "        0.66028714, 0.5871513 , 0.16461694, 0.7381023 , 0.32054043],\n",
              "       dtype=float32)>,\n",
              " TensorShape([50]))"
            ]
          },
          "metadata": {},
          "execution_count": 73
        }
      ]
    },
    {
      "cell_type": "markdown",
      "source": [
        "## One Hot Encoding tensors"
      ],
      "metadata": {
        "id": "R5uM9Fg7Dn9j"
      }
    },
    {
      "cell_type": "code",
      "source": [
        "# Create a list of indices\n",
        "list_1 = [0, 1, 2, 3] # Could be red, gree, blue, yellow\n",
        "\n",
        "# One hot encode our list of indices\n",
        "tf.one_hot(list_1, depth=4)"
      ],
      "metadata": {
        "colab": {
          "base_uri": "https://localhost:8080/"
        },
        "id": "OyY7pHxbKy39",
        "outputId": "f26b59ef-5b0c-4a62-8958-bb590088e4ed"
      },
      "execution_count": 74,
      "outputs": [
        {
          "output_type": "execute_result",
          "data": {
            "text/plain": [
              "<tf.Tensor: shape=(4, 4), dtype=float32, numpy=\n",
              "array([[1., 0., 0., 0.],\n",
              "       [0., 1., 0., 0.],\n",
              "       [0., 0., 1., 0.],\n",
              "       [0., 0., 0., 1.]], dtype=float32)>"
            ]
          },
          "metadata": {},
          "execution_count": 74
        }
      ]
    },
    {
      "cell_type": "code",
      "source": [
        "# Specify custom values for one hot encode\n",
        "tf.one_hot(list_1, depth=4, on_value = \"Yes\", off_value = \"No\")"
      ],
      "metadata": {
        "colab": {
          "base_uri": "https://localhost:8080/"
        },
        "id": "H-tgb64GEKhL",
        "outputId": "18194bf2-71e4-4059-c011-9eb08b752beb"
      },
      "execution_count": 75,
      "outputs": [
        {
          "output_type": "execute_result",
          "data": {
            "text/plain": [
              "<tf.Tensor: shape=(4, 4), dtype=string, numpy=\n",
              "array([[b'Yes', b'No', b'No', b'No'],\n",
              "       [b'No', b'Yes', b'No', b'No'],\n",
              "       [b'No', b'No', b'Yes', b'No'],\n",
              "       [b'No', b'No', b'No', b'Yes']], dtype=object)>"
            ]
          },
          "metadata": {},
          "execution_count": 75
        }
      ]
    },
    {
      "cell_type": "markdown",
      "source": [
        "## Squaring, log, Square root\n",
        "\n"
      ],
      "metadata": {
        "id": "GcR06cKlEpl8"
      }
    },
    {
      "cell_type": "code",
      "source": [
        "# Create a new tensor\n",
        "H = tf.range(1, 10)\n",
        "H"
      ],
      "metadata": {
        "colab": {
          "base_uri": "https://localhost:8080/"
        },
        "id": "WpcDsQkrEgTo",
        "outputId": "315f996a-aebc-4c94-a832-52e3387dbefa"
      },
      "execution_count": 76,
      "outputs": [
        {
          "output_type": "execute_result",
          "data": {
            "text/plain": [
              "<tf.Tensor: shape=(9,), dtype=int32, numpy=array([1, 2, 3, 4, 5, 6, 7, 8, 9], dtype=int32)>"
            ]
          },
          "metadata": {},
          "execution_count": 76
        }
      ]
    },
    {
      "cell_type": "code",
      "source": [
        "# Square it\n",
        "tf.square(H)"
      ],
      "metadata": {
        "colab": {
          "base_uri": "https://localhost:8080/"
        },
        "id": "_11iirXzE3To",
        "outputId": "991b859b-9bed-4ad6-edaa-4b73ea269580"
      },
      "execution_count": 77,
      "outputs": [
        {
          "output_type": "execute_result",
          "data": {
            "text/plain": [
              "<tf.Tensor: shape=(9,), dtype=int32, numpy=array([ 1,  4,  9, 16, 25, 36, 49, 64, 81], dtype=int32)>"
            ]
          },
          "metadata": {},
          "execution_count": 77
        }
      ]
    },
    {
      "cell_type": "code",
      "source": [
        "# Find the Square root\n",
        "tf.sqrt(tf.cast(H, dtype=tf.float32))"
      ],
      "metadata": {
        "colab": {
          "base_uri": "https://localhost:8080/"
        },
        "id": "Zf5nq4RtE96A",
        "outputId": "afdc0477-711f-4f0a-9d82-c646ebc45b2a"
      },
      "execution_count": 78,
      "outputs": [
        {
          "output_type": "execute_result",
          "data": {
            "text/plain": [
              "<tf.Tensor: shape=(9,), dtype=float32, numpy=\n",
              "array([1.       , 1.4142135, 1.7320508, 2.       , 2.2360678, 2.4494896,\n",
              "       2.6457512, 2.828427 , 3.       ], dtype=float32)>"
            ]
          },
          "metadata": {},
          "execution_count": 78
        }
      ]
    },
    {
      "cell_type": "code",
      "source": [
        "tf.math.log(tf.cast(H, dtype=tf.float32))"
      ],
      "metadata": {
        "colab": {
          "base_uri": "https://localhost:8080/"
        },
        "id": "r9fMVlXzFMLV",
        "outputId": "9ed3efdf-bff4-4f17-a30f-2f164d70d857"
      },
      "execution_count": 79,
      "outputs": [
        {
          "output_type": "execute_result",
          "data": {
            "text/plain": [
              "<tf.Tensor: shape=(9,), dtype=float32, numpy=\n",
              "array([0.       , 0.6931472, 1.0986123, 1.3862944, 1.609438 , 1.7917595,\n",
              "       1.9459102, 2.0794415, 2.1972246], dtype=float32)>"
            ]
          },
          "metadata": {},
          "execution_count": 79
        }
      ]
    },
    {
      "cell_type": "markdown",
      "source": [
        "# **Tensors & NumPy**\n",
        "\n",
        "Tensorflow interacts beautifully with numpy arrays."
      ],
      "metadata": {
        "id": "9xMrA0RhFpjk"
      }
    },
    {
      "cell_type": "code",
      "source": [
        "# Create a tensor directly from a numpy array\n",
        "J = tf.constant(np.array([2., 3., 4.]))\n",
        "J"
      ],
      "metadata": {
        "colab": {
          "base_uri": "https://localhost:8080/"
        },
        "id": "vmTtqvApFVja",
        "outputId": "6e17aaae-fdc6-4883-d1be-7713d2c72da1"
      },
      "execution_count": 80,
      "outputs": [
        {
          "output_type": "execute_result",
          "data": {
            "text/plain": [
              "<tf.Tensor: shape=(3,), dtype=float64, numpy=array([2., 3., 4.])>"
            ]
          },
          "metadata": {},
          "execution_count": 80
        }
      ]
    },
    {
      "cell_type": "code",
      "source": [
        "# convert our tensors to numpy array\n",
        "np.array(J), type(np.array(J))"
      ],
      "metadata": {
        "colab": {
          "base_uri": "https://localhost:8080/"
        },
        "id": "vRk-GB97GD3i",
        "outputId": "5d426e45-fdc6-4deb-9dc9-244d78b80210"
      },
      "execution_count": 81,
      "outputs": [
        {
          "output_type": "execute_result",
          "data": {
            "text/plain": [
              "(array([2., 3., 4.]), numpy.ndarray)"
            ]
          },
          "metadata": {},
          "execution_count": 81
        }
      ]
    },
    {
      "cell_type": "code",
      "source": [
        "# convert numpy array to tensors\n",
        "J.numpy(), type(J.numpy())"
      ],
      "metadata": {
        "colab": {
          "base_uri": "https://localhost:8080/"
        },
        "id": "PpqkOQq9GxVG",
        "outputId": "69f2621b-25b9-46a0-8697-c54cef020053"
      },
      "execution_count": 82,
      "outputs": [
        {
          "output_type": "execute_result",
          "data": {
            "text/plain": [
              "(array([2., 3., 4.]), numpy.ndarray)"
            ]
          },
          "metadata": {},
          "execution_count": 82
        }
      ]
    },
    {
      "cell_type": "code",
      "source": [
        "J = tf.constant([3.])\n",
        "J.numpy()[0]"
      ],
      "metadata": {
        "colab": {
          "base_uri": "https://localhost:8080/"
        },
        "id": "Bs-_zfARG509",
        "outputId": "7f805628-34b5-4b26-cdff-812c4d951c75"
      },
      "execution_count": 83,
      "outputs": [
        {
          "output_type": "execute_result",
          "data": {
            "text/plain": [
              "3.0"
            ]
          },
          "metadata": {},
          "execution_count": 83
        }
      ]
    },
    {
      "cell_type": "markdown",
      "source": [
        "## Finding access to GPU"
      ],
      "metadata": {
        "id": "9U5FLPWkLhRu"
      }
    },
    {
      "cell_type": "code",
      "source": [
        "import tensorflow as tf\n",
        "tf.config.list_physical_devices()"
      ],
      "metadata": {
        "colab": {
          "base_uri": "https://localhost:8080/"
        },
        "id": "12MLQz-bG-df",
        "outputId": "0e4233c4-7631-4441-9d3d-1b975777bd05"
      },
      "execution_count": 84,
      "outputs": [
        {
          "output_type": "execute_result",
          "data": {
            "text/plain": [
              "[PhysicalDevice(name='/physical_device:CPU:0', device_type='CPU'),\n",
              " PhysicalDevice(name='/physical_device:GPU:0', device_type='GPU')]"
            ]
          },
          "metadata": {},
          "execution_count": 84
        }
      ]
    },
    {
      "cell_type": "code",
      "source": [
        "!nvidia-smi"
      ],
      "metadata": {
        "colab": {
          "base_uri": "https://localhost:8080/"
        },
        "id": "SHQCFBibL7lu",
        "outputId": "26693b69-c11a-41fa-f1f7-797387ef4b58"
      },
      "execution_count": 85,
      "outputs": [
        {
          "output_type": "stream",
          "name": "stdout",
          "text": [
            "Tue Mar 19 14:55:54 2024       \n",
            "+---------------------------------------------------------------------------------------+\n",
            "| NVIDIA-SMI 535.104.05             Driver Version: 535.104.05   CUDA Version: 12.2     |\n",
            "|-----------------------------------------+----------------------+----------------------+\n",
            "| GPU  Name                 Persistence-M | Bus-Id        Disp.A | Volatile Uncorr. ECC |\n",
            "| Fan  Temp   Perf          Pwr:Usage/Cap |         Memory-Usage | GPU-Util  Compute M. |\n",
            "|                                         |                      |               MIG M. |\n",
            "|=========================================+======================+======================|\n",
            "|   0  Tesla T4                       Off | 00000000:00:04.0 Off |                    0 |\n",
            "| N/A   47C    P0              25W /  70W |    107MiB / 15360MiB |      0%      Default |\n",
            "|                                         |                      |                  N/A |\n",
            "+-----------------------------------------+----------------------+----------------------+\n",
            "                                                                                         \n",
            "+---------------------------------------------------------------------------------------+\n",
            "| Processes:                                                                            |\n",
            "|  GPU   GI   CI        PID   Type   Process name                            GPU Memory |\n",
            "|        ID   ID                                                             Usage      |\n",
            "|=======================================================================================|\n",
            "+---------------------------------------------------------------------------------------+\n"
          ]
        }
      ]
    },
    {
      "cell_type": "code",
      "source": [],
      "metadata": {
        "id": "vXHSDzKFNi1a"
      },
      "execution_count": null,
      "outputs": []
    },
    {
      "cell_type": "code",
      "source": [],
      "metadata": {
        "id": "IHplKJd0Q9Sy"
      },
      "execution_count": null,
      "outputs": []
    },
    {
      "cell_type": "markdown",
      "source": [
        "## **🛠 00. TensorFlow Fundamentals Exercises**\n",
        "\n",
        "---\n",
        "\n",
        "1. Create a vector, scalar, matrix and tensor with values of your choosing using tf.constant().\n",
        "\n",
        "2. Find the shape, rank and size of the tensors you created in 1.\n",
        "\n",
        "3. Create two tensors containing random values between 0 and 1 with shape `[5, 300]`.\n",
        "\n",
        "4. Multiply the two tensors you created in 3 using matrix multiplication.\n",
        "\n",
        "5. Multiply the two tensors you created in 3 using dot product.\n",
        "\n",
        "6. Create a tensor with random values between 0 and 1 with shape `[224, 224, 3]`.\n",
        "\n",
        "7. Find the min and max values of the tensor you created in 6 along the first axis.\n",
        "\n",
        "8. Created a tensor with random values of shape `[1, 224, 224, 3]` then squeeze it to change the shape to `[224, 224, 3]`.\n",
        "\n",
        "9. Create a tensor with shape `[10]` using your own choice of values, then find the index which has the maximum value.\n",
        "\n",
        "10. One-hot encode the tensor you created in 9."
      ],
      "metadata": {
        "id": "GzSrtNwnQVNO"
      }
    },
    {
      "cell_type": "code",
      "source": [
        "# Create a vector, scalar, matrix and tensor with values of your choosing using tf.constant().\n",
        "scalar = tf.constant(10, 2)\n",
        "\n",
        "vector = tf.constant([10, 7])\n",
        "\n",
        "matrix = tf.constant([[10, 7],\n",
        "                      [3, 2]])\n",
        "\n",
        "tensor = tf.constant([[[1, 2], [3, 4]],\n",
        "                      [[5, 6], [7, 8]],\n",
        "                      [[9, 10], [11, 12]]])\n",
        "\n",
        "scalar, scalar.ndim, vector, vector.ndim, matrix, matrix.ndim, tensor, tensor.ndim"
      ],
      "metadata": {
        "colab": {
          "base_uri": "https://localhost:8080/"
        },
        "id": "Y1n6dG0YQ7Dh",
        "outputId": "b69aeac8-cace-4919-f0ea-18b147ad6f81"
      },
      "execution_count": 99,
      "outputs": [
        {
          "output_type": "execute_result",
          "data": {
            "text/plain": [
              "(<tf.Tensor: shape=(), dtype=float64, numpy=10.0>,\n",
              " 0,\n",
              " <tf.Tensor: shape=(2,), dtype=int32, numpy=array([10,  7], dtype=int32)>,\n",
              " 1,\n",
              " <tf.Tensor: shape=(2, 2), dtype=int32, numpy=\n",
              " array([[10,  7],\n",
              "        [ 3,  2]], dtype=int32)>,\n",
              " 2,\n",
              " <tf.Tensor: shape=(3, 2, 2), dtype=int32, numpy=\n",
              " array([[[ 1,  2],\n",
              "         [ 3,  4]],\n",
              " \n",
              "        [[ 5,  6],\n",
              "         [ 7,  8]],\n",
              " \n",
              "        [[ 9, 10],\n",
              "         [11, 12]]], dtype=int32)>,\n",
              " 3)"
            ]
          },
          "metadata": {},
          "execution_count": 99
        }
      ]
    },
    {
      "cell_type": "code",
      "source": [
        "tensor.shape, tensor.ndim, tf.size(tensor)"
      ],
      "metadata": {
        "colab": {
          "base_uri": "https://localhost:8080/"
        },
        "id": "BKnAizWtUGJs",
        "outputId": "ebc5db32-58d5-4d41-a368-cbe07467d0af"
      },
      "execution_count": 100,
      "outputs": [
        {
          "output_type": "execute_result",
          "data": {
            "text/plain": [
              "(TensorShape([3, 2, 2]), 3, <tf.Tensor: shape=(), dtype=int32, numpy=12>)"
            ]
          },
          "metadata": {},
          "execution_count": 100
        }
      ]
    },
    {
      "cell_type": "code",
      "source": [
        "A = tf.random.uniform([5, 300], minval=0, maxval=1)\n",
        "B = tf.random.uniform([5, 300], minval=0, maxval=1)\n",
        "\n",
        "A, B"
      ],
      "metadata": {
        "colab": {
          "base_uri": "https://localhost:8080/"
        },
        "id": "vGk5Vn-Xb_jf",
        "outputId": "3f53282e-0163-4651-baa1-1a50b6d11df7"
      },
      "execution_count": 124,
      "outputs": [
        {
          "output_type": "execute_result",
          "data": {
            "text/plain": [
              "(<tf.Tensor: shape=(5, 300), dtype=float32, numpy=\n",
              " array([[0.68789124, 0.48447883, 0.9309944 , ..., 0.6920762 , 0.33180213,\n",
              "         0.9212563 ],\n",
              "        [0.27369928, 0.10631859, 0.6218617 , ..., 0.4382149 , 0.30427706,\n",
              "         0.51477313],\n",
              "        [0.00920248, 0.37280262, 0.8177401 , ..., 0.56786287, 0.49201214,\n",
              "         0.9892651 ],\n",
              "        [0.88608265, 0.08672249, 0.12160683, ..., 0.91770685, 0.72545695,\n",
              "         0.8280058 ],\n",
              "        [0.36690474, 0.9200133 , 0.9646884 , ..., 0.69012   , 0.7137332 ,\n",
              "         0.2584542 ]], dtype=float32)>,\n",
              " <tf.Tensor: shape=(5, 300), dtype=float32, numpy=\n",
              " array([[0.7413678 , 0.62854624, 0.01738465, ..., 0.4851334 , 0.21059811,\n",
              "         0.25082767],\n",
              "        [0.10842848, 0.48783147, 0.8240961 , ..., 0.9204427 , 0.36046863,\n",
              "         0.28176582],\n",
              "        [0.7326695 , 0.46489418, 0.13622475, ..., 0.28130388, 0.63987684,\n",
              "         0.9987265 ],\n",
              "        [0.01447165, 0.7845044 , 0.33475304, ..., 0.56194997, 0.0209924 ,\n",
              "         0.1740731 ],\n",
              "        [0.90936875, 0.19861352, 0.9481231 , ..., 0.3573054 , 0.13161755,\n",
              "         0.22565222]], dtype=float32)>)"
            ]
          },
          "metadata": {},
          "execution_count": 124
        }
      ]
    },
    {
      "cell_type": "code",
      "source": [
        "A.shape, B.shape"
      ],
      "metadata": {
        "colab": {
          "base_uri": "https://localhost:8080/"
        },
        "id": "MWkCBrQffqrs",
        "outputId": "b6d89008-b3de-4838-fffa-82c174ec5c33"
      },
      "execution_count": 125,
      "outputs": [
        {
          "output_type": "execute_result",
          "data": {
            "text/plain": [
              "(TensorShape([5, 300]), TensorShape([5, 300]))"
            ]
          },
          "metadata": {},
          "execution_count": 125
        }
      ]
    },
    {
      "cell_type": "code",
      "source": [
        "C = tf.matmul(A, tf.transpose(B))\n",
        "C"
      ],
      "metadata": {
        "colab": {
          "base_uri": "https://localhost:8080/"
        },
        "id": "oy7B6H-ig7qC",
        "outputId": "b34a9033-dea4-4a43-a5e9-75de41f7239c"
      },
      "execution_count": 127,
      "outputs": [
        {
          "output_type": "execute_result",
          "data": {
            "text/plain": [
              "<tf.Tensor: shape=(5, 5), dtype=float32, numpy=\n",
              "array([[75.71399 , 80.87825 , 78.3285  , 78.25969 , 79.13057 ],\n",
              "       [70.12708 , 72.09945 , 70.16779 , 73.24609 , 74.27741 ],\n",
              "       [75.16    , 79.52857 , 76.746445, 78.14266 , 77.286804],\n",
              "       [77.11355 , 75.401215, 72.793785, 75.06638 , 75.206535],\n",
              "       [79.87285 , 83.40138 , 78.57372 , 79.025894, 81.82093 ]],\n",
              "      dtype=float32)>"
            ]
          },
          "metadata": {},
          "execution_count": 127
        }
      ]
    },
    {
      "cell_type": "code",
      "source": [
        "A * B"
      ],
      "metadata": {
        "colab": {
          "base_uri": "https://localhost:8080/"
        },
        "id": "tGofdY4Gi50y",
        "outputId": "233788e6-d78c-46fa-9c51-0b848d31010f"
      },
      "execution_count": 128,
      "outputs": [
        {
          "output_type": "execute_result",
          "data": {
            "text/plain": [
              "<tf.Tensor: shape=(5, 300), dtype=float32, numpy=\n",
              "array([[0.50998044, 0.30451736, 0.01618501, ..., 0.3357493 , 0.0698769 ,\n",
              "        0.23107657],\n",
              "       [0.0296768 , 0.05186556, 0.51247376, ..., 0.4033517 , 0.10968234,\n",
              "        0.14504547],\n",
              "       [0.00674238, 0.17331377, 0.11139643, ..., 0.15974203, 0.31482717,\n",
              "        0.9880052 ],\n",
              "       [0.01282308, 0.06803418, 0.04070826, ..., 0.51570535, 0.01522908,\n",
              "        0.14413354],\n",
              "       [0.3336517 , 0.18272708, 0.91464335, ..., 0.2465836 , 0.09393981,\n",
              "        0.05832076]], dtype=float32)>"
            ]
          },
          "metadata": {},
          "execution_count": 128
        }
      ]
    },
    {
      "cell_type": "code",
      "source": [
        "D = tf.random.uniform([224, 224, 3], minval=0, maxval=1)\n",
        "E = tf.random.uniform([224, 224, 3], minval=0, maxval=1)\n",
        "\n",
        "D, E"
      ],
      "metadata": {
        "colab": {
          "base_uri": "https://localhost:8080/"
        },
        "id": "_-FOg2PEkAVD",
        "outputId": "0a892ef9-ae7c-49e7-a91c-0ac804e49e3d"
      },
      "execution_count": 130,
      "outputs": [
        {
          "output_type": "execute_result",
          "data": {
            "text/plain": [
              "(<tf.Tensor: shape=(224, 224, 3), dtype=float32, numpy=\n",
              " array([[[0.95831835, 0.01680839, 0.3156035 ],\n",
              "         [0.16013157, 0.7148702 , 0.7892921 ],\n",
              "         [0.11484027, 0.33310425, 0.21091413],\n",
              "         ...,\n",
              "         [0.6279857 , 0.85051286, 0.9490392 ],\n",
              "         [0.62438786, 0.2802421 , 0.18754554],\n",
              "         [0.9087832 , 0.46846092, 0.5317346 ]],\n",
              " \n",
              "        [[0.85744655, 0.51288927, 0.18603599],\n",
              "         [0.04882693, 0.78045344, 0.79377043],\n",
              "         [0.9356363 , 0.32798207, 0.15949786],\n",
              "         ...,\n",
              "         [0.6933085 , 0.5420611 , 0.1860913 ],\n",
              "         [0.7326596 , 0.9234495 , 0.07200372],\n",
              "         [0.5471792 , 0.24985266, 0.14673471]],\n",
              " \n",
              "        [[0.5033684 , 0.7000841 , 0.21468806],\n",
              "         [0.9304948 , 0.17212296, 0.720364  ],\n",
              "         [0.6657183 , 0.17304075, 0.7110392 ],\n",
              "         ...,\n",
              "         [0.35423398, 0.126225  , 0.24436975],\n",
              "         [0.096439  , 0.06387579, 0.32836854],\n",
              "         [0.15067935, 0.6084572 , 0.47766674]],\n",
              " \n",
              "        ...,\n",
              " \n",
              "        [[0.23573959, 0.42224514, 0.9151635 ],\n",
              "         [0.38158715, 0.32973826, 0.5171102 ],\n",
              "         [0.06080973, 0.31411576, 0.22626662],\n",
              "         ...,\n",
              "         [0.5705669 , 0.4921385 , 0.09957004],\n",
              "         [0.7411188 , 0.02490544, 0.6451397 ],\n",
              "         [0.87311184, 0.7771938 , 0.7208451 ]],\n",
              " \n",
              "        [[0.9943476 , 0.7494216 , 0.04249358],\n",
              "         [0.0224061 , 0.5791631 , 0.7543137 ],\n",
              "         [0.84515274, 0.6103951 , 0.5505407 ],\n",
              "         ...,\n",
              "         [0.1359564 , 0.47180867, 0.4215784 ],\n",
              "         [0.1299932 , 0.5381433 , 0.71466696],\n",
              "         [0.15192771, 0.8817011 , 0.2109077 ]],\n",
              " \n",
              "        [[0.603493  , 0.16534615, 0.6985712 ],\n",
              "         [0.15773225, 0.8743893 , 0.58997643],\n",
              "         [0.80147445, 0.37448967, 0.8073541 ],\n",
              "         ...,\n",
              "         [0.65353775, 0.7825564 , 0.45476055],\n",
              "         [0.45565426, 0.39367366, 0.925439  ],\n",
              "         [0.05451977, 0.5806842 , 0.01799083]]], dtype=float32)>,\n",
              " <tf.Tensor: shape=(224, 224, 3), dtype=float32, numpy=\n",
              " array([[[0.43555546, 0.52486527, 0.49674678],\n",
              "         [0.06710219, 0.35815144, 0.5931845 ],\n",
              "         [0.8396933 , 0.32720697, 0.08762932],\n",
              "         ...,\n",
              "         [0.24612641, 0.9342215 , 0.05903411],\n",
              "         [0.93307066, 0.512503  , 0.48924422],\n",
              "         [0.97681785, 0.9894414 , 0.81736803]],\n",
              " \n",
              "        [[0.9728149 , 0.7123945 , 0.24925625],\n",
              "         [0.27054942, 0.65331674, 0.25431752],\n",
              "         [0.29969907, 0.6473402 , 0.61158216],\n",
              "         ...,\n",
              "         [0.41850114, 0.9183353 , 0.08774114],\n",
              "         [0.60710025, 0.92464304, 0.29132044],\n",
              "         [0.14755595, 0.03294516, 0.8127129 ]],\n",
              " \n",
              "        [[0.90104914, 0.00804007, 0.2443372 ],\n",
              "         [0.71701133, 0.90716815, 0.21456563],\n",
              "         [0.7990829 , 0.9918189 , 0.51183915],\n",
              "         ...,\n",
              "         [0.8509488 , 0.8159404 , 0.47705805],\n",
              "         [0.07570207, 0.73422337, 0.3427385 ],\n",
              "         [0.26765156, 0.38085854, 0.45572805]],\n",
              " \n",
              "        ...,\n",
              " \n",
              "        [[0.18761933, 0.00920856, 0.70124197],\n",
              "         [0.08083069, 0.549742  , 0.6088327 ],\n",
              "         [0.16830242, 0.687148  , 0.76961887],\n",
              "         ...,\n",
              "         [0.4954375 , 0.5678084 , 0.07287478],\n",
              "         [0.07095361, 0.19544816, 0.29444373],\n",
              "         [0.68754125, 0.73415554, 0.3547299 ]],\n",
              " \n",
              "        [[0.31692898, 0.67925036, 0.33037102],\n",
              "         [0.2845199 , 0.11748242, 0.12562299],\n",
              "         [0.1603725 , 0.40151358, 0.44442987],\n",
              "         ...,\n",
              "         [0.20047164, 0.11027908, 0.3234501 ],\n",
              "         [0.146994  , 0.10499954, 0.49690545],\n",
              "         [0.8318136 , 0.52519095, 0.16305494]],\n",
              " \n",
              "        [[0.6775838 , 0.28184998, 0.80041397],\n",
              "         [0.21804118, 0.70799506, 0.8462702 ],\n",
              "         [0.92774117, 0.3301983 , 0.6232302 ],\n",
              "         ...,\n",
              "         [0.59664214, 0.71712804, 0.74279964],\n",
              "         [0.44430482, 0.8588613 , 0.1727078 ],\n",
              "         [0.9972558 , 0.07016063, 0.5944129 ]]], dtype=float32)>)"
            ]
          },
          "metadata": {},
          "execution_count": 130
        }
      ]
    },
    {
      "cell_type": "code",
      "source": [
        "min_value = tf.reduce_min(D, axis=0)\n",
        "max_value = tf.reduce_max(D, axis=0)\n",
        "\n",
        "min_value, max_value"
      ],
      "metadata": {
        "colab": {
          "base_uri": "https://localhost:8080/"
        },
        "id": "I2y5iJkBkvSj",
        "outputId": "8c0ccd83-68be-4538-b878-e2ef6ff3769a"
      },
      "execution_count": 136,
      "outputs": [
        {
          "output_type": "execute_result",
          "data": {
            "text/plain": [
              "(<tf.Tensor: shape=(224, 3), dtype=float32, numpy=\n",
              " array([[6.28840923e-03, 5.36608696e-03, 3.28612328e-03],\n",
              "        [1.78635120e-03, 7.69615173e-04, 4.28605080e-03],\n",
              "        [9.94515419e-03, 1.72972679e-04, 2.14409828e-03],\n",
              "        [4.43828106e-03, 4.51648235e-03, 4.74357605e-03],\n",
              "        [9.86492634e-03, 2.01439857e-03, 5.80573082e-03],\n",
              "        [6.59704208e-03, 6.00981712e-03, 6.77955151e-03],\n",
              "        [3.43513489e-03, 1.48499012e-03, 1.11581087e-02],\n",
              "        [7.17639923e-04, 1.25019550e-02, 4.83334064e-03],\n",
              "        [1.23023987e-03, 2.21967697e-03, 3.09741497e-03],\n",
              "        [4.44173813e-04, 2.16341019e-03, 1.23655796e-03],\n",
              "        [2.60603428e-03, 8.85558128e-03, 4.47070599e-03],\n",
              "        [8.30650330e-04, 4.86719608e-03, 2.52771378e-03],\n",
              "        [4.39465046e-03, 2.57611275e-04, 1.97972059e-02],\n",
              "        [1.96933746e-04, 2.87055969e-04, 2.14099884e-04],\n",
              "        [7.20083714e-03, 1.23764277e-02, 3.44371796e-03],\n",
              "        [6.76095486e-03, 9.66906548e-04, 9.12785530e-04],\n",
              "        [6.90650940e-03, 5.37371635e-03, 1.71397924e-02],\n",
              "        [2.82847881e-03, 9.00077820e-03, 8.86893272e-03],\n",
              "        [1.72030926e-03, 3.46374512e-03, 7.97033310e-04],\n",
              "        [2.31552124e-03, 4.75215912e-03, 2.05039978e-05],\n",
              "        [1.58011913e-03, 9.81450081e-03, 4.44173813e-04],\n",
              "        [1.81353092e-03, 1.40190125e-04, 4.25457954e-04],\n",
              "        [1.28853321e-03, 1.34706497e-04, 5.67674637e-04],\n",
              "        [2.44379044e-04, 1.24216080e-04, 4.01747227e-03],\n",
              "        [5.04136086e-04, 1.57451630e-03, 1.25217438e-03],\n",
              "        [2.32994556e-03, 6.34849072e-03, 1.04563236e-02],\n",
              "        [4.83250618e-03, 4.49895859e-04, 5.21981716e-03],\n",
              "        [2.38907337e-03, 2.33054161e-04, 7.87138939e-03],\n",
              "        [3.11315060e-03, 3.24344635e-03, 6.98971748e-03],\n",
              "        [5.70940971e-03, 2.86149979e-03, 4.18913364e-03],\n",
              "        [6.81853294e-03, 1.17874146e-02, 7.61950016e-03],\n",
              "        [1.46722794e-03, 4.26197052e-03, 1.04938745e-02],\n",
              "        [3.38494778e-03, 8.87751579e-03, 4.26685810e-03],\n",
              "        [3.97443771e-04, 1.00327730e-02, 2.01582909e-03],\n",
              "        [1.88779831e-03, 3.82220745e-03, 8.59749317e-03],\n",
              "        [5.52594662e-03, 2.63285637e-03, 2.52068043e-03],\n",
              "        [1.33848190e-03, 4.76527214e-03, 9.64331627e-03],\n",
              "        [2.05278397e-03, 5.19847870e-03, 1.12652779e-03],\n",
              "        [1.43265724e-03, 5.33342361e-04, 6.56545162e-03],\n",
              "        [2.55167484e-03, 5.06377220e-03, 1.42920017e-03],\n",
              "        [1.69157982e-04, 1.07514858e-03, 8.14700127e-03],\n",
              "        [2.40743160e-02, 7.24864006e-03, 2.02476978e-03],\n",
              "        [1.38815641e-02, 3.25441360e-05, 1.67274475e-03],\n",
              "        [6.72054291e-03, 1.24144554e-03, 3.66854668e-03],\n",
              "        [4.69076633e-03, 1.88958645e-03, 4.33206558e-03],\n",
              "        [1.74567699e-02, 7.13586807e-04, 9.34600830e-05],\n",
              "        [3.68213654e-03, 1.84929371e-03, 6.62803650e-04],\n",
              "        [2.66671181e-04, 1.03104115e-03, 3.86106968e-03],\n",
              "        [4.81474400e-03, 5.39612770e-03, 4.20415401e-03],\n",
              "        [7.29203224e-03, 4.14490700e-04, 4.26757336e-03],\n",
              "        [5.00118732e-03, 3.84533405e-03, 1.97100639e-03],\n",
              "        [7.04884529e-03, 1.29723549e-03, 4.31191921e-03],\n",
              "        [1.69587135e-03, 3.42214108e-03, 3.51786613e-03],\n",
              "        [6.17742538e-04, 1.36165619e-02, 4.15086746e-04],\n",
              "        [1.60229206e-02, 1.63319111e-02, 2.10046768e-04],\n",
              "        [5.98013401e-03, 2.57802010e-03, 1.55448914e-03],\n",
              "        [1.59382820e-03, 6.59644604e-03, 6.46829605e-04],\n",
              "        [6.04999065e-03, 1.16131306e-02, 8.46493244e-03],\n",
              "        [1.21259689e-03, 1.72086954e-02, 4.99999523e-03],\n",
              "        [3.62682343e-03, 5.76293468e-03, 1.31897926e-02],\n",
              "        [6.72340393e-04, 1.81877613e-03, 2.19500065e-02],\n",
              "        [2.16106176e-02, 8.21876526e-03, 1.09302998e-03],\n",
              "        [1.06850863e-02, 9.28413868e-03, 3.29971313e-03],\n",
              "        [1.57868862e-03, 2.09450722e-04, 1.10646486e-02],\n",
              "        [2.26759911e-03, 3.23712826e-03, 1.03235245e-04],\n",
              "        [2.72071362e-03, 5.59747219e-03, 4.47797775e-03],\n",
              "        [1.12000704e-02, 8.83340836e-03, 8.46517086e-03],\n",
              "        [3.48842144e-03, 1.70068741e-02, 1.99854374e-03],\n",
              "        [5.06174564e-03, 1.59794092e-02, 3.97205353e-03],\n",
              "        [4.54580784e-03, 4.94444370e-03, 1.00041628e-02],\n",
              "        [5.41222095e-03, 9.58228111e-03, 2.50959396e-03],\n",
              "        [1.53183937e-03, 1.36065483e-03, 9.68074799e-03],\n",
              "        [5.38897514e-03, 4.34350967e-03, 1.84869766e-03],\n",
              "        [2.31385231e-04, 8.25273991e-03, 4.13656235e-03],\n",
              "        [2.55122185e-02, 4.15956974e-03, 2.55382061e-03],\n",
              "        [3.38470936e-03, 1.81508064e-03, 1.37680769e-02],\n",
              "        [1.32505894e-02, 1.23584270e-03, 2.78115273e-04],\n",
              "        [3.21197510e-03, 3.78417969e-03, 6.55639172e-03],\n",
              "        [5.16724586e-03, 3.51905823e-03, 3.16548347e-03],\n",
              "        [6.07192516e-03, 4.18829918e-03, 2.24912167e-03],\n",
              "        [2.69556046e-03, 1.65402889e-03, 4.21845913e-03],\n",
              "        [8.07404518e-04, 3.66449356e-03, 6.33561611e-03],\n",
              "        [2.63023376e-03, 1.43802166e-03, 6.90734386e-03],\n",
              "        [3.73697281e-03, 1.14219189e-02, 2.57933140e-03],\n",
              "        [4.15337086e-03, 8.63945484e-03, 2.78747082e-03],\n",
              "        [4.16398048e-03, 2.72619724e-03, 3.26991081e-04],\n",
              "        [5.21695614e-03, 6.20770454e-03, 4.88829613e-03],\n",
              "        [4.84693050e-03, 7.04646111e-04, 1.64673328e-02],\n",
              "        [3.63111496e-03, 1.76482201e-02, 3.65543365e-03],\n",
              "        [4.56821918e-03, 1.34873390e-03, 9.49680805e-03],\n",
              "        [1.03901625e-02, 5.81395626e-03, 1.35159492e-03],\n",
              "        [4.78923321e-03, 1.07812881e-03, 1.21235847e-03],\n",
              "        [6.48999214e-03, 5.86187840e-03, 2.00688839e-03],\n",
              "        [2.43294239e-03, 2.15899944e-03, 9.78744030e-03],\n",
              "        [8.19647312e-03, 1.19209290e-04, 1.00326538e-03],\n",
              "        [5.14054298e-03, 8.43632221e-03, 6.02912903e-03],\n",
              "        [2.61998177e-03, 1.19614601e-03, 7.07268715e-04],\n",
              "        [9.08339024e-03, 6.97898865e-03, 2.60245800e-03],\n",
              "        [1.42908096e-03, 5.03909588e-03, 9.58979130e-03],\n",
              "        [1.08158588e-03, 1.49822235e-03, 8.32843781e-03],\n",
              "        [2.77757645e-03, 1.58268213e-02, 2.92003155e-03],\n",
              "        [1.18689537e-02, 1.16767883e-02, 9.39846039e-04],\n",
              "        [6.07252121e-04, 5.86104393e-03, 2.83288956e-03],\n",
              "        [2.55596638e-03, 1.93369389e-03, 5.28717041e-03],\n",
              "        [8.50319862e-04, 3.29256058e-03, 7.68601894e-03],\n",
              "        [7.07435608e-03, 1.32787228e-03, 5.40518761e-03],\n",
              "        [6.54864311e-03, 6.49809837e-04, 8.33153725e-04],\n",
              "        [2.70795822e-03, 8.64267349e-04, 8.90851021e-04],\n",
              "        [3.08072567e-03, 1.88302994e-02, 7.14266300e-03],\n",
              "        [4.98723984e-03, 6.50525093e-03, 2.99334526e-03],\n",
              "        [1.51646137e-03, 3.53574753e-04, 7.27057457e-03],\n",
              "        [1.10385418e-02, 4.71091270e-03, 1.20913982e-03],\n",
              "        [2.45594978e-03, 9.48667526e-04, 5.69760799e-03],\n",
              "        [1.01876259e-03, 1.00767612e-03, 1.50275230e-03],\n",
              "        [2.40993500e-03, 1.85322762e-03, 6.16240501e-03],\n",
              "        [2.69138813e-03, 7.83681870e-04, 5.65624237e-03],\n",
              "        [6.19173050e-04, 1.43361092e-03, 7.66515732e-04],\n",
              "        [1.20282173e-04, 2.25007534e-03, 2.08520889e-03],\n",
              "        [9.78350639e-03, 8.63409042e-03, 5.84602356e-03],\n",
              "        [6.41584396e-04, 1.52671337e-03, 1.56815052e-02],\n",
              "        [3.00908089e-03, 4.10258770e-03, 9.24170017e-03],\n",
              "        [1.18958950e-03, 1.29517317e-02, 6.99055195e-03],\n",
              "        [5.33556938e-03, 2.43067741e-04, 9.37235355e-03],\n",
              "        [3.00216675e-03, 4.24742699e-03, 3.70383263e-03],\n",
              "        [1.69980526e-03, 8.61644745e-03, 9.64045525e-04],\n",
              "        [7.13288784e-03, 1.33275986e-03, 9.04798508e-05],\n",
              "        [4.72426414e-04, 3.11434269e-03, 1.43003464e-03],\n",
              "        [1.80399418e-03, 2.07531452e-03, 8.57949257e-04],\n",
              "        [1.30081177e-03, 2.52747536e-03, 4.72009182e-03],\n",
              "        [4.53412533e-03, 4.47750092e-04, 3.67975235e-03],\n",
              "        [7.78675079e-04, 6.41226768e-04, 1.08758211e-02],\n",
              "        [2.04360485e-03, 2.02655792e-04, 5.20217419e-03],\n",
              "        [3.62408161e-03, 2.82227993e-03, 4.35590744e-03],\n",
              "        [7.36916065e-03, 1.04272366e-03, 6.66379929e-05],\n",
              "        [3.18562984e-03, 2.74837017e-03, 2.21469402e-02],\n",
              "        [9.15384293e-03, 1.59597397e-03, 5.03659248e-04],\n",
              "        [4.96649742e-03, 5.47528267e-04, 1.01375580e-03],\n",
              "        [2.35676765e-04, 5.20670414e-03, 1.11460686e-03],\n",
              "        [1.31281614e-02, 1.91700459e-03, 3.56832743e-02],\n",
              "        [2.50732899e-03, 1.12128258e-03, 1.36482716e-03],\n",
              "        [2.96139717e-03, 3.17931175e-04, 3.53312492e-03],\n",
              "        [2.11715698e-03, 6.35981560e-04, 1.79481506e-03],\n",
              "        [1.37245655e-02, 4.23026085e-03, 7.71117210e-03],\n",
              "        [3.33309174e-04, 2.44212151e-03, 7.39145279e-03],\n",
              "        [3.63731384e-03, 2.45094299e-04, 2.10940838e-03],\n",
              "        [1.88863277e-03, 4.47785854e-03, 2.73692608e-03],\n",
              "        [6.83951378e-03, 3.25751305e-03, 1.08850002e-02],\n",
              "        [6.46364689e-03, 4.25148010e-03, 1.69110298e-03],\n",
              "        [3.64792347e-03, 1.69372559e-03, 7.83681870e-04],\n",
              "        [1.06606483e-02, 6.68418407e-03, 1.50108337e-03],\n",
              "        [4.10330296e-03, 4.51540947e-03, 2.45988369e-03],\n",
              "        [8.28838348e-03, 3.39329243e-03, 1.83069706e-03],\n",
              "        [4.24170494e-03, 2.01368332e-02, 1.67548656e-03],\n",
              "        [2.18915939e-03, 1.68800354e-04, 2.09760666e-03],\n",
              "        [2.17664242e-03, 9.78946686e-04, 5.31435013e-04],\n",
              "        [2.21121311e-03, 3.10540199e-04, 9.88268852e-03],\n",
              "        [9.43911076e-03, 1.26552582e-03, 1.15716457e-03],\n",
              "        [7.52401352e-03, 3.75628471e-04, 3.11803818e-03],\n",
              "        [6.94882870e-03, 3.10885906e-03, 5.47456741e-03],\n",
              "        [2.48670578e-04, 7.89725780e-03, 3.00824642e-03],\n",
              "        [1.81846619e-02, 3.09383869e-03, 4.36770916e-03],\n",
              "        [5.05363941e-03, 7.10606575e-04, 3.68559361e-03],\n",
              "        [1.09100342e-03, 4.95755672e-03, 3.35240364e-03],\n",
              "        [1.43790245e-03, 1.81984901e-03, 3.11756134e-03],\n",
              "        [2.39825249e-03, 2.04312801e-02, 7.42900372e-03],\n",
              "        [6.35838509e-03, 8.80920887e-03, 1.79421902e-03],\n",
              "        [1.54209137e-03, 7.66396523e-04, 9.23860073e-03],\n",
              "        [2.36153603e-04, 1.02710724e-03, 9.30559635e-03],\n",
              "        [2.30383873e-03, 1.67369843e-03, 4.94241714e-04],\n",
              "        [1.65307522e-03, 2.93970108e-04, 1.24242306e-02],\n",
              "        [1.81424618e-03, 6.54447079e-03, 8.56614113e-03],\n",
              "        [1.47166252e-02, 4.10544872e-03, 7.36629963e-03],\n",
              "        [1.68323517e-04, 1.25479698e-03, 1.18968487e-02],\n",
              "        [1.43228769e-02, 1.71780586e-03, 1.15242004e-02],\n",
              "        [6.49333000e-03, 3.34143639e-03, 2.05004215e-03],\n",
              "        [1.40309334e-04, 1.31928921e-03, 1.39389038e-02],\n",
              "        [9.31072235e-03, 1.17313862e-03, 4.88805771e-03],\n",
              "        [5.30040264e-03, 6.21926785e-03, 4.37414646e-03],\n",
              "        [3.01599503e-04, 1.65617466e-03, 4.13823128e-03],\n",
              "        [2.69806385e-03, 1.08281374e-02, 1.22666359e-03],\n",
              "        [2.77554989e-03, 8.41128826e-03, 1.35523081e-02],\n",
              "        [8.71777534e-04, 7.42447376e-03, 3.20148468e-03],\n",
              "        [2.48074532e-04, 3.56292725e-03, 1.58393383e-03],\n",
              "        [1.68716908e-03, 1.76310539e-04, 3.20911407e-04],\n",
              "        [9.80854034e-04, 6.80947304e-03, 5.78856468e-03],\n",
              "        [1.47104263e-04, 2.96270847e-03, 3.19957733e-04],\n",
              "        [1.14440918e-05, 1.46746635e-03, 1.56164169e-04],\n",
              "        [3.12745571e-03, 1.86061859e-03, 5.90169430e-03],\n",
              "        [1.52949095e-02, 1.06723309e-02, 5.68580627e-03],\n",
              "        [2.30038166e-03, 1.72078609e-03, 1.60026550e-03],\n",
              "        [5.98931313e-03, 3.45730782e-03, 6.80696964e-03],\n",
              "        [1.85562372e-02, 6.20186329e-03, 6.31976128e-03],\n",
              "        [2.10535526e-03, 1.10864639e-04, 7.29477406e-03],\n",
              "        [1.01499557e-02, 1.63316727e-03, 3.92556190e-04],\n",
              "        [4.51922417e-04, 1.02132559e-02, 5.19907475e-03],\n",
              "        [2.56788731e-03, 6.07061386e-03, 1.38473511e-03],\n",
              "        [4.20761108e-03, 2.28655338e-03, 9.32455063e-04],\n",
              "        [1.40213966e-03, 3.58819962e-04, 1.07214451e-02],\n",
              "        [7.92682171e-03, 1.26459599e-02, 6.89387321e-04],\n",
              "        [8.22198391e-03, 8.55922699e-03, 2.03335285e-03],\n",
              "        [1.75827742e-02, 1.13689899e-03, 8.34107399e-04],\n",
              "        [9.05871391e-03, 5.57303429e-04, 1.88136101e-03],\n",
              "        [7.53402710e-04, 4.43649292e-03, 7.45296478e-04],\n",
              "        [1.90846920e-02, 4.06098366e-03, 1.50287151e-03],\n",
              "        [3.76975536e-03, 1.29365921e-03, 3.33023071e-03],\n",
              "        [7.60471821e-03, 4.73010540e-03, 2.95579433e-03],\n",
              "        [9.94861126e-03, 1.16928816e-02, 2.39121914e-03],\n",
              "        [1.84512138e-03, 2.15268135e-03, 4.99463081e-03],\n",
              "        [1.39439106e-03, 1.13928318e-03, 5.99086285e-03],\n",
              "        [2.74479389e-03, 6.74283504e-03, 8.25440884e-03],\n",
              "        [2.51650810e-04, 2.00271606e-05, 1.96263790e-02],\n",
              "        [7.79068470e-03, 5.45656681e-03, 5.27322292e-03],\n",
              "        [1.88493729e-03, 1.40798092e-03, 3.07893753e-03],\n",
              "        [6.17742538e-04, 1.56283379e-04, 2.26581097e-03],\n",
              "        [1.65140629e-03, 1.12783909e-03, 1.36041641e-03],\n",
              "        [4.78029251e-05, 9.07623768e-03, 7.56311417e-03],\n",
              "        [3.01063061e-03, 5.73945045e-03, 7.35282898e-04],\n",
              "        [4.35829163e-04, 6.21175766e-03, 8.27074051e-04],\n",
              "        [2.22396851e-03, 1.13743544e-02, 1.88791752e-03],\n",
              "        [1.12990141e-02, 1.59049034e-03, 5.66482544e-04],\n",
              "        [9.42897797e-03, 3.09062004e-03, 2.57134438e-04],\n",
              "        [1.35564804e-03, 4.99463081e-03, 1.65518522e-02],\n",
              "        [2.08461285e-03, 2.43735313e-03, 3.81708145e-04],\n",
              "        [7.79151917e-04, 3.35454941e-03, 3.72755527e-03]], dtype=float32)>,\n",
              " <tf.Tensor: shape=(224, 3), dtype=float32, numpy=\n",
              " array([[0.9943476 , 0.9995475 , 0.9983828 ],\n",
              "        [0.99083686, 0.99957013, 0.988415  ],\n",
              "        [0.9999896 , 0.9977449 , 0.9966265 ],\n",
              "        [0.9963864 , 0.9989499 , 0.99900234],\n",
              "        [0.9837544 , 0.99430525, 0.99215305],\n",
              "        [0.99928224, 0.98987937, 0.98712707],\n",
              "        [0.9974121 , 0.9863535 , 0.99990165],\n",
              "        [0.99701667, 0.9889666 , 0.9958061 ],\n",
              "        [0.9994612 , 0.9997072 , 0.996169  ],\n",
              "        [0.99701536, 0.99958324, 0.9947041 ],\n",
              "        [0.9925134 , 0.99992204, 0.9964365 ],\n",
              "        [0.99582326, 0.99764824, 0.99763215],\n",
              "        [0.9991684 , 0.997615  , 0.99677515],\n",
              "        [0.99078715, 0.9966037 , 0.9977385 ],\n",
              "        [0.99715996, 0.99997413, 0.9922476 ],\n",
              "        [0.9959909 , 0.99597824, 0.9992192 ],\n",
              "        [0.99825895, 0.9961809 , 0.9891857 ],\n",
              "        [0.99799216, 0.99727464, 0.9867989 ],\n",
              "        [0.99888515, 0.995461  , 0.9836755 ],\n",
              "        [0.9904263 , 0.9958818 , 0.99893916],\n",
              "        [0.99937296, 0.97950256, 0.99840057],\n",
              "        [0.98795915, 0.9966097 , 0.996053  ],\n",
              "        [0.9968337 , 0.99904907, 0.9941665 ],\n",
              "        [0.995656  , 0.9982288 , 0.9960513 ],\n",
              "        [0.9995239 , 0.9972954 , 0.9996152 ],\n",
              "        [0.99247384, 0.9992926 , 0.9945781 ],\n",
              "        [0.9985615 , 0.9983194 , 0.99699175],\n",
              "        [0.9977797 , 0.9937471 , 0.99769473],\n",
              "        [0.9970864 , 0.9930508 , 0.9968958 ],\n",
              "        [0.99631107, 0.99567556, 0.9980836 ],\n",
              "        [0.9969878 , 0.99526465, 0.9975163 ],\n",
              "        [0.9986074 , 0.9971094 , 0.9974747 ],\n",
              "        [0.991981  , 0.9978967 , 0.9993323 ],\n",
              "        [0.9928869 , 0.99013054, 0.9972323 ],\n",
              "        [0.995227  , 0.9968231 , 0.99950635],\n",
              "        [0.9989785 , 0.999635  , 0.9975146 ],\n",
              "        [0.9996691 , 0.9963136 , 0.9986794 ],\n",
              "        [0.9981785 , 0.99811935, 0.9767971 ],\n",
              "        [0.99447596, 0.9983226 , 0.9966799 ],\n",
              "        [0.9937748 , 0.99461174, 0.9965669 ],\n",
              "        [0.9967663 , 0.99550927, 0.9871005 ],\n",
              "        [0.9976591 , 0.9950155 , 0.995968  ],\n",
              "        [0.99991965, 0.9999764 , 0.98700035],\n",
              "        [0.99151194, 0.9984907 , 0.9953735 ],\n",
              "        [0.99830616, 0.99887073, 0.9984112 ],\n",
              "        [0.9933597 , 0.9961897 , 0.9793054 ],\n",
              "        [0.99475014, 0.9962449 , 0.99569404],\n",
              "        [0.9957205 , 0.9972378 , 0.9971602 ],\n",
              "        [0.9818746 , 0.99516416, 0.9988276 ],\n",
              "        [0.99409235, 0.99317324, 0.99418056],\n",
              "        [0.99657977, 0.9988239 , 0.9940809 ],\n",
              "        [0.99619925, 0.9948368 , 0.9626607 ],\n",
              "        [0.997159  , 0.9966744 , 0.9999714 ],\n",
              "        [0.98403025, 0.9959506 , 0.9997245 ],\n",
              "        [0.9886843 , 0.9890286 , 0.9965861 ],\n",
              "        [0.9969137 , 0.993919  , 0.99748003],\n",
              "        [0.9949722 , 0.9980501 , 0.9953735 ],\n",
              "        [0.9970118 , 0.98618925, 0.9957831 ],\n",
              "        [0.99899423, 0.9926715 , 0.9903636 ],\n",
              "        [0.9780444 , 0.9995556 , 0.99390066],\n",
              "        [0.984066  , 0.9918921 , 0.983817  ],\n",
              "        [0.9993231 , 0.9982699 , 0.9943094 ],\n",
              "        [0.99857056, 0.9980947 , 0.99660087],\n",
              "        [0.9954847 , 0.9970567 , 0.99047613],\n",
              "        [0.998096  , 0.99651027, 0.99664056],\n",
              "        [0.99863636, 0.9979123 , 0.9974822 ],\n",
              "        [0.9873357 , 0.9953426 , 0.99918056],\n",
              "        [0.9983281 , 0.9987594 , 0.99553657],\n",
              "        [0.9918523 , 0.99722457, 0.99932766],\n",
              "        [0.9886925 , 0.99180603, 0.98989   ],\n",
              "        [0.9899651 , 0.99948716, 0.99686265],\n",
              "        [0.99479866, 0.9984076 , 0.99745774],\n",
              "        [0.98788345, 0.9994794 , 0.99346197],\n",
              "        [0.99341524, 0.9974309 , 0.98964584],\n",
              "        [0.99577534, 0.9976438 , 0.99946487],\n",
              "        [0.99467945, 0.9911288 , 0.99396074],\n",
              "        [0.998345  , 0.99907243, 0.9969671 ],\n",
              "        [0.997882  , 0.99618983, 0.986938  ],\n",
              "        [0.98633635, 0.9815115 , 0.9990494 ],\n",
              "        [0.9959836 , 0.9990804 , 0.9862797 ],\n",
              "        [0.98828614, 0.99609625, 0.9892155 ],\n",
              "        [0.99991286, 0.9979408 , 0.9820601 ],\n",
              "        [0.9964323 , 0.9834168 , 0.9999764 ],\n",
              "        [0.9739704 , 0.9918146 , 0.9960779 ],\n",
              "        [0.99522376, 0.9950253 , 0.9986689 ],\n",
              "        [0.9924313 , 0.9872496 , 0.9931414 ],\n",
              "        [0.9943552 , 0.98947537, 0.99402547],\n",
              "        [0.99861515, 0.9943216 , 0.9989848 ],\n",
              "        [0.9993923 , 0.99370515, 0.99061215],\n",
              "        [0.9987197 , 0.996444  , 0.99884975],\n",
              "        [0.9998965 , 0.9989407 , 0.9944762 ],\n",
              "        [0.9984549 , 0.99591434, 0.9981873 ],\n",
              "        [0.99819636, 0.99888945, 0.99298525],\n",
              "        [0.9996486 , 0.9990902 , 0.9980973 ],\n",
              "        [0.9890753 , 0.9953166 , 0.99176204],\n",
              "        [0.99581695, 0.99719906, 0.9967911 ],\n",
              "        [0.9948698 , 0.9967222 , 0.99997187],\n",
              "        [0.9974792 , 0.99051905, 0.9990041 ],\n",
              "        [0.9985299 , 0.9905771 , 0.9924283 ],\n",
              "        [0.999354  , 0.9979856 , 0.99158466],\n",
              "        [0.9981178 , 0.99799716, 0.997993  ],\n",
              "        [0.9860456 , 0.9955083 , 0.9994118 ],\n",
              "        [0.9933642 , 0.9988898 , 0.99868405],\n",
              "        [0.99998784, 0.97501767, 0.99559176],\n",
              "        [0.99410284, 0.9983139 , 0.99807096],\n",
              "        [0.99994254, 0.9977429 , 0.9974096 ],\n",
              "        [0.99726593, 0.9944266 , 0.99750197],\n",
              "        [0.9899074 , 0.9973036 , 0.9992335 ],\n",
              "        [0.9917586 , 0.99795556, 0.9970319 ],\n",
              "        [0.9931817 , 0.9912529 , 0.9966507 ],\n",
              "        [0.9995123 , 0.99904084, 0.9999293 ],\n",
              "        [0.9997351 , 0.9966885 , 0.99841344],\n",
              "        [0.9988545 , 0.9997343 , 0.99834967],\n",
              "        [0.9960295 , 0.9992739 , 0.9840689 ],\n",
              "        [0.9992106 , 0.9950359 , 0.9966345 ],\n",
              "        [0.99810874, 0.9990951 , 0.9980655 ],\n",
              "        [0.9985324 , 0.9981922 , 0.9961444 ],\n",
              "        [0.99793506, 0.9988016 , 0.996488  ],\n",
              "        [0.99980867, 0.9997591 , 0.9706799 ],\n",
              "        [0.99999404, 0.999192  , 0.9994246 ],\n",
              "        [0.99614894, 0.99991524, 0.99999726],\n",
              "        [0.9999852 , 0.9980699 , 0.99548686],\n",
              "        [0.99889874, 0.9964843 , 0.9930037 ],\n",
              "        [0.9964272 , 0.9928061 , 0.9981915 ],\n",
              "        [0.9987527 , 0.99992275, 0.99995196],\n",
              "        [0.9980428 , 0.99052024, 0.9979235 ],\n",
              "        [0.9992602 , 0.999161  , 0.99454165],\n",
              "        [0.99387753, 0.99152017, 0.98950195],\n",
              "        [0.99895525, 0.9971765 , 0.9965588 ],\n",
              "        [0.99837327, 0.9963697 , 0.99794984],\n",
              "        [0.9978999 , 0.99222565, 0.979139  ],\n",
              "        [0.9970486 , 0.99866533, 0.99959075],\n",
              "        [0.999298  , 0.99479043, 0.9985305 ],\n",
              "        [0.9970515 , 0.99666154, 0.9973235 ],\n",
              "        [0.9982265 , 0.99964964, 0.98810005],\n",
              "        [0.99774003, 0.99933434, 0.9982399 ],\n",
              "        [0.99306285, 0.9972601 , 0.9968804 ],\n",
              "        [0.99757695, 0.9964013 , 0.9978498 ],\n",
              "        [0.9949906 , 0.99637985, 0.9986377 ],\n",
              "        [0.99136984, 0.99760723, 0.9934695 ],\n",
              "        [0.98593795, 0.9924438 , 0.98815906],\n",
              "        [0.9952357 , 0.9934106 , 0.9975847 ],\n",
              "        [0.9978055 , 0.9915471 , 0.99854946],\n",
              "        [0.9995284 , 0.98675954, 0.9983876 ],\n",
              "        [0.99271953, 0.99776125, 0.99989104],\n",
              "        [0.9964527 , 0.9961436 , 0.99373007],\n",
              "        [0.9948423 , 0.9999788 , 0.99627554],\n",
              "        [0.99477947, 0.9999137 , 0.9987879 ],\n",
              "        [0.99697685, 0.99906456, 0.99070275],\n",
              "        [0.99843454, 0.9984888 , 0.99929523],\n",
              "        [0.99395597, 0.9918761 , 0.999948  ],\n",
              "        [0.9993031 , 0.99467146, 0.9929049 ],\n",
              "        [0.9986446 , 0.9889219 , 0.99943674],\n",
              "        [0.9986483 , 0.99795187, 0.999735  ],\n",
              "        [0.9979112 , 0.999184  , 0.9979031 ],\n",
              "        [0.997331  , 0.99955344, 0.99879897],\n",
              "        [0.99873877, 0.99292624, 0.9925878 ],\n",
              "        [0.99511695, 0.9999237 , 0.99907386],\n",
              "        [0.9880096 , 0.9983617 , 0.9955847 ],\n",
              "        [0.9859196 , 0.99936664, 0.9933692 ],\n",
              "        [0.9912548 , 0.99715066, 0.99447083],\n",
              "        [0.99886227, 0.99857473, 0.9868604 ],\n",
              "        [0.99385786, 0.9994446 , 0.99852276],\n",
              "        [0.99553907, 0.9889593 , 0.99873805],\n",
              "        [0.99812055, 0.9983741 , 0.9952643 ],\n",
              "        [0.9996946 , 0.99709845, 0.99702275],\n",
              "        [0.99702704, 0.99599516, 0.99632025],\n",
              "        [0.9997183 , 0.99039376, 0.9836794 ],\n",
              "        [0.9995791 , 0.99161744, 0.99129176],\n",
              "        [0.9987086 , 0.9911934 , 0.9993099 ],\n",
              "        [0.98552275, 0.9980109 , 0.9997636 ],\n",
              "        [0.99269783, 0.9996145 , 0.97577083],\n",
              "        [0.99973845, 0.98628795, 0.9999933 ],\n",
              "        [0.99633837, 0.99944234, 0.99701023],\n",
              "        [0.99971104, 0.99773574, 0.99868345],\n",
              "        [0.999583  , 0.99876106, 0.9985373 ],\n",
              "        [0.9957299 , 0.9960686 , 0.99302673],\n",
              "        [0.9967953 , 0.9997653 , 0.9933598 ],\n",
              "        [0.9996247 , 0.99686956, 0.99980927],\n",
              "        [0.999292  , 0.99781847, 0.9884733 ],\n",
              "        [0.9981921 , 0.9965339 , 0.996251  ],\n",
              "        [0.9985421 , 0.99726224, 0.9890388 ],\n",
              "        [0.99819994, 0.9968482 , 0.9956583 ],\n",
              "        [0.9995103 , 0.99689054, 0.99738204],\n",
              "        [0.99770296, 0.99810076, 0.99409497],\n",
              "        [0.9987043 , 0.9992832 , 0.99761283],\n",
              "        [0.99286306, 0.99996305, 0.9990915 ],\n",
              "        [0.9776075 , 0.9965029 , 0.9968958 ],\n",
              "        [0.9996642 , 0.9974562 , 0.99526846],\n",
              "        [0.99784994, 0.9988538 , 0.99910116],\n",
              "        [0.99788904, 0.9906744 , 0.9920176 ],\n",
              "        [0.9950886 , 0.9955331 , 0.9973906 ],\n",
              "        [0.9986094 , 0.99814975, 0.99769557],\n",
              "        [0.9895953 , 0.9987662 , 0.9976877 ],\n",
              "        [0.9942285 , 0.9939283 , 0.9999312 ],\n",
              "        [0.996984  , 0.99980664, 0.99780285],\n",
              "        [0.9940684 , 0.9997381 , 0.9949089 ],\n",
              "        [0.9974959 , 0.9990828 , 0.9976585 ],\n",
              "        [0.9964465 , 0.99987435, 0.9971944 ],\n",
              "        [0.9974233 , 0.9940679 , 0.95322025],\n",
              "        [0.9947101 , 0.9959812 , 0.99760854],\n",
              "        [0.9970145 , 0.9947649 , 0.99015   ],\n",
              "        [0.9884255 , 0.98052907, 0.995208  ],\n",
              "        [0.9982325 , 0.99676967, 0.9992696 ],\n",
              "        [0.9967495 , 0.99973667, 0.99657834],\n",
              "        [0.99818397, 0.9978416 , 0.99857414],\n",
              "        [0.9963418 , 0.9903952 , 0.99697137],\n",
              "        [0.9995452 , 0.9953532 , 0.9971086 ],\n",
              "        [0.99959636, 0.9874109 , 0.99900794],\n",
              "        [0.9996573 , 0.98581624, 0.99780583],\n",
              "        [0.9799119 , 0.9931202 , 0.99903333],\n",
              "        [0.9935659 , 0.99762464, 0.999529  ],\n",
              "        [0.9891639 , 0.9935105 , 0.9986383 ],\n",
              "        [0.998899  , 0.98863065, 0.9985889 ],\n",
              "        [0.9959061 , 0.99658275, 0.99367523],\n",
              "        [0.9902414 , 0.9969009 , 0.9956764 ],\n",
              "        [0.9962064 , 0.99121594, 0.99320805],\n",
              "        [0.9982915 , 0.9952915 , 0.994426  ],\n",
              "        [0.9943403 , 0.99376655, 0.99921274],\n",
              "        [0.9705193 , 0.99716175, 0.9999579 ],\n",
              "        [0.9934032 , 0.9993745 , 0.99794114],\n",
              "        [0.99958944, 0.99891305, 0.99561477],\n",
              "        [0.9992969 , 0.99459314, 0.99836564],\n",
              "        [0.9883263 , 0.9992305 , 0.99901116]], dtype=float32)>)"
            ]
          },
          "metadata": {},
          "execution_count": 136
        }
      ]
    },
    {
      "cell_type": "code",
      "source": [
        "tf.random.set_seed(42)\n",
        "F = tf.constant(tf.random.uniform(shape=[224, 224, 3]), shape=(1, 224, 224, 3))\n",
        "F, F.shape"
      ],
      "metadata": {
        "colab": {
          "base_uri": "https://localhost:8080/"
        },
        "id": "DeLyv29HlRNe",
        "outputId": "5e23e9ab-b5c9-476b-ff1f-e3cc90b06aaf"
      },
      "execution_count": 139,
      "outputs": [
        {
          "output_type": "execute_result",
          "data": {
            "text/plain": [
              "(<tf.Tensor: shape=(1, 224, 224, 3), dtype=float32, numpy=\n",
              " array([[[[0.6645621 , 0.44100678, 0.3528825 ],\n",
              "          [0.46448255, 0.03366041, 0.68467236],\n",
              "          [0.74011743, 0.8724445 , 0.22632635],\n",
              "          ...,\n",
              "          [0.42612267, 0.09686017, 0.16105258],\n",
              "          [0.1487099 , 0.04513884, 0.9497483 ],\n",
              "          [0.4393103 , 0.28527975, 0.96971095]],\n",
              " \n",
              "         [[0.73308516, 0.5657046 , 0.33238935],\n",
              "          [0.8838178 , 0.87544763, 0.56711245],\n",
              "          [0.8879347 , 0.47661996, 0.42041814],\n",
              "          ...,\n",
              "          [0.7716515 , 0.9116473 , 0.3229897 ],\n",
              "          [0.43050945, 0.83253574, 0.45549798],\n",
              "          [0.29816985, 0.9639522 , 0.3316357 ]],\n",
              " \n",
              "         [[0.41132426, 0.2179662 , 0.53570235],\n",
              "          [0.5112119 , 0.6484759 , 0.8894886 ],\n",
              "          [0.42459428, 0.20189774, 0.85781324],\n",
              "          ...,\n",
              "          [0.02888799, 0.3995477 , 0.11355484],\n",
              "          [0.68524575, 0.04945195, 0.17778492],\n",
              "          [0.97627187, 0.79811585, 0.9411576 ]],\n",
              " \n",
              "         ...,\n",
              " \n",
              "         [[0.9019445 , 0.27011132, 0.8090267 ],\n",
              "          [0.32395256, 0.6672456 , 0.940673  ],\n",
              "          [0.7166116 , 0.8860713 , 0.6777594 ],\n",
              "          ...,\n",
              "          [0.8318608 , 0.39227867, 0.68916583],\n",
              "          [0.1599741 , 0.46428144, 0.4656595 ],\n",
              "          [0.8619243 , 0.24755931, 0.33835268]],\n",
              " \n",
              "         [[0.47570062, 0.09377229, 0.11811328],\n",
              "          [0.0523994 , 0.38206005, 0.12188685],\n",
              "          [0.2757113 , 0.44918692, 0.9179864 ],\n",
              "          ...,\n",
              "          [0.4974177 , 0.4562863 , 0.8261535 ],\n",
              "          [0.60251105, 0.27676368, 0.258716  ],\n",
              "          [0.7977431 , 0.74125385, 0.76062095]],\n",
              " \n",
              "         [[0.4755299 , 0.4661665 , 0.14167643],\n",
              "          [0.9103775 , 0.41117966, 0.83182037],\n",
              "          [0.79765654, 0.38330686, 0.5313202 ],\n",
              "          ...,\n",
              "          [0.94517136, 0.17730081, 0.00362825],\n",
              "          [0.6170398 , 0.9977623 , 0.8315122 ],\n",
              "          [0.6683676 , 0.68716586, 0.4447713 ]]]], dtype=float32)>,\n",
              " TensorShape([1, 224, 224, 3]))"
            ]
          },
          "metadata": {},
          "execution_count": 139
        }
      ]
    },
    {
      "cell_type": "code",
      "source": [
        "F_squeeze = tf.squeeze(F)\n",
        "F_squeeze, F_squeeze.shape"
      ],
      "metadata": {
        "colab": {
          "base_uri": "https://localhost:8080/"
        },
        "id": "rE2TjLipnWv9",
        "outputId": "4a8c10cd-84c5-4f6c-cf9d-abf0ba8d8da3"
      },
      "execution_count": 141,
      "outputs": [
        {
          "output_type": "execute_result",
          "data": {
            "text/plain": [
              "(<tf.Tensor: shape=(224, 224, 3), dtype=float32, numpy=\n",
              " array([[[0.6645621 , 0.44100678, 0.3528825 ],\n",
              "         [0.46448255, 0.03366041, 0.68467236],\n",
              "         [0.74011743, 0.8724445 , 0.22632635],\n",
              "         ...,\n",
              "         [0.42612267, 0.09686017, 0.16105258],\n",
              "         [0.1487099 , 0.04513884, 0.9497483 ],\n",
              "         [0.4393103 , 0.28527975, 0.96971095]],\n",
              " \n",
              "        [[0.73308516, 0.5657046 , 0.33238935],\n",
              "         [0.8838178 , 0.87544763, 0.56711245],\n",
              "         [0.8879347 , 0.47661996, 0.42041814],\n",
              "         ...,\n",
              "         [0.7716515 , 0.9116473 , 0.3229897 ],\n",
              "         [0.43050945, 0.83253574, 0.45549798],\n",
              "         [0.29816985, 0.9639522 , 0.3316357 ]],\n",
              " \n",
              "        [[0.41132426, 0.2179662 , 0.53570235],\n",
              "         [0.5112119 , 0.6484759 , 0.8894886 ],\n",
              "         [0.42459428, 0.20189774, 0.85781324],\n",
              "         ...,\n",
              "         [0.02888799, 0.3995477 , 0.11355484],\n",
              "         [0.68524575, 0.04945195, 0.17778492],\n",
              "         [0.97627187, 0.79811585, 0.9411576 ]],\n",
              " \n",
              "        ...,\n",
              " \n",
              "        [[0.9019445 , 0.27011132, 0.8090267 ],\n",
              "         [0.32395256, 0.6672456 , 0.940673  ],\n",
              "         [0.7166116 , 0.8860713 , 0.6777594 ],\n",
              "         ...,\n",
              "         [0.8318608 , 0.39227867, 0.68916583],\n",
              "         [0.1599741 , 0.46428144, 0.4656595 ],\n",
              "         [0.8619243 , 0.24755931, 0.33835268]],\n",
              " \n",
              "        [[0.47570062, 0.09377229, 0.11811328],\n",
              "         [0.0523994 , 0.38206005, 0.12188685],\n",
              "         [0.2757113 , 0.44918692, 0.9179864 ],\n",
              "         ...,\n",
              "         [0.4974177 , 0.4562863 , 0.8261535 ],\n",
              "         [0.60251105, 0.27676368, 0.258716  ],\n",
              "         [0.7977431 , 0.74125385, 0.76062095]],\n",
              " \n",
              "        [[0.4755299 , 0.4661665 , 0.14167643],\n",
              "         [0.9103775 , 0.41117966, 0.83182037],\n",
              "         [0.79765654, 0.38330686, 0.5313202 ],\n",
              "         ...,\n",
              "         [0.94517136, 0.17730081, 0.00362825],\n",
              "         [0.6170398 , 0.9977623 , 0.8315122 ],\n",
              "         [0.6683676 , 0.68716586, 0.4447713 ]]], dtype=float32)>,\n",
              " TensorShape([224, 224, 3]))"
            ]
          },
          "metadata": {},
          "execution_count": 141
        }
      ]
    },
    {
      "cell_type": "code",
      "source": [
        "tensor = tf.random.uniform([10], minval=0, maxval=10)\n",
        "tensor"
      ],
      "metadata": {
        "colab": {
          "base_uri": "https://localhost:8080/"
        },
        "id": "rnTPHAuwnmCJ",
        "outputId": "ca5cfcf9-f249-4385-ca1b-7794a539e4da"
      },
      "execution_count": 147,
      "outputs": [
        {
          "output_type": "execute_result",
          "data": {
            "text/plain": [
              "<tf.Tensor: shape=(10,), dtype=float32, numpy=\n",
              "array([7.402308 , 3.3938193, 5.692506 , 4.481139 , 2.9285502, 4.260056 ,\n",
              "       6.2890387, 6.91061  , 3.0925727, 8.92366  ], dtype=float32)>"
            ]
          },
          "metadata": {},
          "execution_count": 147
        }
      ]
    },
    {
      "cell_type": "code",
      "source": [
        "index = tf.math.argmax(tensor)\n",
        "print(index)"
      ],
      "metadata": {
        "colab": {
          "base_uri": "https://localhost:8080/"
        },
        "id": "YvlwL8KCoDAF",
        "outputId": "38aa6d4f-6b9c-4c54-9048-ab333ef8927e"
      },
      "execution_count": 150,
      "outputs": [
        {
          "output_type": "stream",
          "name": "stdout",
          "text": [
            "tf.Tensor(9, shape=(), dtype=int64)\n"
          ]
        }
      ]
    },
    {
      "cell_type": "code",
      "source": [
        "tensor, tensor.shape"
      ],
      "metadata": {
        "colab": {
          "base_uri": "https://localhost:8080/"
        },
        "id": "4Gqe2Yh4o1lb",
        "outputId": "9670ef7d-aa98-493e-b0bf-9f61e3ba17ea"
      },
      "execution_count": 154,
      "outputs": [
        {
          "output_type": "execute_result",
          "data": {
            "text/plain": [
              "(<tf.Tensor: shape=(10,), dtype=float32, numpy=\n",
              " array([7.402308 , 3.3938193, 5.692506 , 4.481139 , 2.9285502, 4.260056 ,\n",
              "        6.2890387, 6.91061  , 3.0925727, 8.92366  ], dtype=float32)>,\n",
              " TensorShape([10]))"
            ]
          },
          "metadata": {},
          "execution_count": 154
        }
      ]
    },
    {
      "cell_type": "code",
      "source": [
        "tf.one_hot(tf.cast(tensor, dtype=tf.int32), depth=10)"
      ],
      "metadata": {
        "colab": {
          "base_uri": "https://localhost:8080/"
        },
        "id": "MGOgmOfcpahL",
        "outputId": "aeda546a-20eb-4c6a-abc2-cd5d26a7cd85"
      },
      "execution_count": 158,
      "outputs": [
        {
          "output_type": "execute_result",
          "data": {
            "text/plain": [
              "<tf.Tensor: shape=(10, 10), dtype=float32, numpy=\n",
              "array([[0., 0., 0., 0., 0., 0., 0., 1., 0., 0.],\n",
              "       [0., 0., 0., 1., 0., 0., 0., 0., 0., 0.],\n",
              "       [0., 0., 0., 0., 0., 1., 0., 0., 0., 0.],\n",
              "       [0., 0., 0., 0., 1., 0., 0., 0., 0., 0.],\n",
              "       [0., 0., 1., 0., 0., 0., 0., 0., 0., 0.],\n",
              "       [0., 0., 0., 0., 1., 0., 0., 0., 0., 0.],\n",
              "       [0., 0., 0., 0., 0., 0., 1., 0., 0., 0.],\n",
              "       [0., 0., 0., 0., 0., 0., 1., 0., 0., 0.],\n",
              "       [0., 0., 0., 1., 0., 0., 0., 0., 0., 0.],\n",
              "       [0., 0., 0., 0., 0., 0., 0., 0., 1., 0.]], dtype=float32)>"
            ]
          },
          "metadata": {},
          "execution_count": 158
        }
      ]
    },
    {
      "cell_type": "code",
      "source": [
        "tf.one_hot(tf.cast(tensor, dtype=tf.int32), depth=10, on_value='yes', off_value='no')"
      ],
      "metadata": {
        "colab": {
          "base_uri": "https://localhost:8080/"
        },
        "id": "6ZYinpAHqCWL",
        "outputId": "86a36808-7cff-4b20-e990-a40df0096a25"
      },
      "execution_count": 159,
      "outputs": [
        {
          "output_type": "execute_result",
          "data": {
            "text/plain": [
              "<tf.Tensor: shape=(10, 10), dtype=string, numpy=\n",
              "array([[b'no', b'no', b'no', b'no', b'no', b'no', b'no', b'yes', b'no',\n",
              "        b'no'],\n",
              "       [b'no', b'no', b'no', b'yes', b'no', b'no', b'no', b'no', b'no',\n",
              "        b'no'],\n",
              "       [b'no', b'no', b'no', b'no', b'no', b'yes', b'no', b'no', b'no',\n",
              "        b'no'],\n",
              "       [b'no', b'no', b'no', b'no', b'yes', b'no', b'no', b'no', b'no',\n",
              "        b'no'],\n",
              "       [b'no', b'no', b'yes', b'no', b'no', b'no', b'no', b'no', b'no',\n",
              "        b'no'],\n",
              "       [b'no', b'no', b'no', b'no', b'yes', b'no', b'no', b'no', b'no',\n",
              "        b'no'],\n",
              "       [b'no', b'no', b'no', b'no', b'no', b'no', b'yes', b'no', b'no',\n",
              "        b'no'],\n",
              "       [b'no', b'no', b'no', b'no', b'no', b'no', b'yes', b'no', b'no',\n",
              "        b'no'],\n",
              "       [b'no', b'no', b'no', b'yes', b'no', b'no', b'no', b'no', b'no',\n",
              "        b'no'],\n",
              "       [b'no', b'no', b'no', b'no', b'no', b'no', b'no', b'no', b'yes',\n",
              "        b'no']], dtype=object)>"
            ]
          },
          "metadata": {},
          "execution_count": 159
        }
      ]
    },
    {
      "cell_type": "code",
      "source": [],
      "metadata": {
        "id": "sCKoRcZSqWbl"
      },
      "execution_count": null,
      "outputs": []
    }
  ],
  "metadata": {
    "colab": {
      "provenance": [],
      "gpuType": "T4",
      "mount_file_id": "1ZVhn1guJEtGyfNqvwtmi6VCbmpyRgnIU",
      "authorship_tag": "ABX9TyOZXCfQ8W7bk6307id13WCg",
      "include_colab_link": true
    },
    "kernelspec": {
      "display_name": "Python 3",
      "name": "python3"
    },
    "language_info": {
      "name": "python"
    },
    "accelerator": "GPU"
  },
  "nbformat": 4,
  "nbformat_minor": 0
}